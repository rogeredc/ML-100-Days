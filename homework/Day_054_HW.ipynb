{
 "cells": [
  {
   "cell_type": "markdown",
   "metadata": {},
   "source": [
    "# 作業\n",
    "* 試著想想看, 非監督學習是否有可能使用評價函數 (Metric) 來鑑別好壞呢?  \n",
    "(Hint : 可以分為 \"有目標值\" 與 \"無目標值\" 兩個方向思考)"
   ]
  },
  {
   "cell_type": "markdown",
   "metadata": {
    "collapsed": true
   },
   "source": [
    "監督式學習: 資料已有標記，運用已標記資料來做訓練。\n",
    "非監督式學習: 資料沒有標記，從中找出擁有相同特徵的資料群。\n",
    "強化式學習: 可能手上沒有任何資料，直接讓模型執行，再將執行結果反饋回去做訓練。\n",
    "    \n",
    "    \n",
    "非監督式學習學習因為沒有目標值所以評價標準根據實際狀況會不同\n",
    "常見的有\n",
    "1.將無監督學習轉換成監督式的，透過集成的方法產生標籤\n",
    "2.透過相似度分析，好的聚类应该满足同时有高簇内相似性和高簇间差异性。"
   ]
  },
  {
   "cell_type": "code",
   "execution_count": null,
   "metadata": {},
   "outputs": [],
   "source": []
  }
 ],
 "metadata": {
  "kernelspec": {
   "display_name": "Python 3",
   "language": "python",
   "name": "python3"
  },
  "language_info": {
   "codemirror_mode": {
    "name": "ipython",
    "version": 3
   },
   "file_extension": ".py",
   "mimetype": "text/x-python",
   "name": "python",
   "nbconvert_exporter": "python",
   "pygments_lexer": "ipython3",
   "version": "3.6.7"
  }
 },
 "nbformat": 4,
 "nbformat_minor": 1
}
