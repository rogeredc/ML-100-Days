{
 "cells": [
  {
   "cell_type": "markdown",
   "metadata": {},
   "source": [
    "## Work\n",
    "1. 請嘗試寫一個 callback 用來記錄各類別在訓練過程中，對驗證集的 True Positive 與 True Negative"
   ]
  },
  {
   "cell_type": "code",
   "execution_count": 1,
   "metadata": {},
   "outputs": [
    {
     "name": "stderr",
     "output_type": "stream",
     "text": [
      "/opt/conda/lib/python3.6/site-packages/h5py/__init__.py:36: FutureWarning: Conversion of the second argument of issubdtype from `float` to `np.floating` is deprecated. In future, it will be treated as `np.float64 == np.dtype(float).type`.\n",
      "  from ._conv import register_converters as _register_converters\n",
      "Using TensorFlow backend.\n"
     ]
    }
   ],
   "source": [
    "import keras\n",
    "from keras.models import Sequential\n",
    "from keras.layers import Dense,BatchNormalization\n",
    "from keras.callbacks import Callback\n",
    "import matplotlib.pyplot as plt\n",
    "%matplotlib inline\n",
    "\n",
    "from sklearn.metrics import confusion_matrix"
   ]
  },
  {
   "cell_type": "code",
   "execution_count": 3,
   "metadata": {},
   "outputs": [
    {
     "name": "stdout",
     "output_type": "stream",
     "text": [
      "Wed Apr 10 07:52:22 2019       \n",
      "+-----------------------------------------------------------------------------+\n",
      "| NVIDIA-SMI 390.67                 Driver Version: 390.67                    |\n",
      "|-------------------------------+----------------------+----------------------+\n",
      "| GPU  Name        Persistence-M| Bus-Id        Disp.A | Volatile Uncorr. ECC |\n",
      "| Fan  Temp  Perf  Pwr:Usage/Cap|         Memory-Usage | GPU-Util  Compute M. |\n",
      "|===============================+======================+======================|\n",
      "|   0  GeForce GTX 108...  Off  | 00000000:06:00.0 Off |                  N/A |\n",
      "| 23%   33C    P8    16W / 250W |      0MiB / 11178MiB |      0%      Default |\n",
      "+-------------------------------+----------------------+----------------------+\n",
      "                                                                               \n",
      "+-----------------------------------------------------------------------------+\n",
      "| Processes:                                                       GPU Memory |\n",
      "|  GPU       PID   Type   Process name                             Usage      |\n",
      "|=============================================================================|\n",
      "|  No running processes found                                                 |\n",
      "+-----------------------------------------------------------------------------+\n"
     ]
    }
   ],
   "source": [
    "!nvidia-smi"
   ]
  },
  {
   "cell_type": "code",
   "execution_count": 4,
   "metadata": {},
   "outputs": [],
   "source": [
    "train, test = keras.datasets.cifar10.load_data()"
   ]
  },
  {
   "cell_type": "code",
   "execution_count": 5,
   "metadata": {},
   "outputs": [],
   "source": [
    "## 資料前處理\n",
    "def preproc_x(x, flatten=True):\n",
    "    x = x / 255.\n",
    "    if flatten:\n",
    "        x = x.reshape((len(x), -1))\n",
    "    return x\n",
    "\n",
    "def preproc_y(y, num_classes=10):\n",
    "    if y.shape[-1] == 1:\n",
    "        y = keras.utils.to_categorical(y, num_classes)\n",
    "    return y    "
   ]
  },
  {
   "cell_type": "code",
   "execution_count": 6,
   "metadata": {},
   "outputs": [],
   "source": [
    "x_train, y_train = train\n",
    "x_test, y_test = test\n",
    "\n",
    "# Preproc the inputs\n",
    "x_train = preproc_x(x_train)\n",
    "x_test = preproc_x(x_test)\n",
    "\n",
    "# Preprc the outputs\n",
    "y_train = preproc_y(y_train)\n",
    "y_test = preproc_y(y_test)"
   ]
  },
  {
   "cell_type": "code",
   "execution_count": 7,
   "metadata": {},
   "outputs": [],
   "source": [
    "def build_mlp(input_shape, output_units=10, num_neurons=[512, 256, 128]):\n",
    "    \n",
    "    model = Sequential()\n",
    "    model.add(Dense(units = input_shape[1] ,input_dim = input_shape[1], kernel_initializer = 'normal', activation = 'relu',name = 'input'))\n",
    "    \n",
    "    for i, n_units in enumerate(num_neurons):\n",
    "        model.add(Dense(units=n_units, kernel_initializer='normal', activation='relu',name=\"hidden_layer\"+str(i+1)))  \n",
    "        model.add(BatchNormalization())         \n",
    "    \n",
    "    model.add(Dense(units=output_units,kernel_initializer='normal', activation='softmax',name='output'))\n",
    "\n",
    "    return model"
   ]
  },
  {
   "cell_type": "code",
   "execution_count": 8,
   "metadata": {},
   "outputs": [],
   "source": [
    "## 超參數設定\n",
    "LEARNING_RATE = 1e-3\n",
    "EPOCHS = 25\n",
    "BATCH_SIZE = 1024\n",
    "MOMENTUM = 0.95"
   ]
  },
  {
   "cell_type": "code",
   "execution_count": 9,
   "metadata": {},
   "outputs": [],
   "source": [
    "# Record_fp_tp\n",
    "class Record_tp_tn(Callback):\n",
    "    def on_train_begin(self, epoch, logs = {}):\n",
    "        logs = logs or {}\n",
    "        record_items = [\"val_auc\", \"val_f1sc\", \"val_fp\", \"val_fn\", \"val_tp\", \"val_tn\"]\n",
    "        for i in record_items:\n",
    "            if i not in self.params['metrics']:\n",
    "                self.params['metrics'].append(i)\n",
    "    \n",
    "    def on_epoch_end(self, epoch, logs = {}, thres=0.5):\n",
    "        logs = logs or {}\n",
    "        y_true = self.validation_data[1].argmax(axis = 1)\n",
    "        y_pred = self.model.predict(self.validation_data[0])\n",
    "        y_pred = (y_pred[:, 1] >= thres) * 1\n",
    "        \n",
    "        CM=confusion_matrix(y_true, y_pred)\n",
    "        logs['val_tp'] =CM[0][0]\n",
    "        logs['val_tn'] =CM[1][1]\n",
    "        \n",
    "rec_tptn = Record_tp_tn()"
   ]
  },
  {
   "cell_type": "code",
   "execution_count": 10,
   "metadata": {
    "scrolled": true
   },
   "outputs": [
    {
     "name": "stdout",
     "output_type": "stream",
     "text": [
      "_________________________________________________________________\n",
      "Layer (type)                 Output Shape              Param #   \n",
      "=================================================================\n",
      "input (Dense)                (None, 3072)              9440256   \n",
      "_________________________________________________________________\n",
      "hidden_layer1 (Dense)        (None, 512)               1573376   \n",
      "_________________________________________________________________\n",
      "batch_normalization_1 (Batch (None, 512)               2048      \n",
      "_________________________________________________________________\n",
      "hidden_layer2 (Dense)        (None, 256)               131328    \n",
      "_________________________________________________________________\n",
      "batch_normalization_2 (Batch (None, 256)               1024      \n",
      "_________________________________________________________________\n",
      "hidden_layer3 (Dense)        (None, 128)               32896     \n",
      "_________________________________________________________________\n",
      "batch_normalization_3 (Batch (None, 128)               512       \n",
      "_________________________________________________________________\n",
      "output (Dense)               (None, 10)                1290      \n",
      "=================================================================\n",
      "Total params: 11,182,730\n",
      "Trainable params: 11,180,938\n",
      "Non-trainable params: 1,792\n",
      "_________________________________________________________________\n",
      "Train on 50000 samples, validate on 10000 samples\n",
      "Epoch 1/25\n",
      "50000/50000 [==============================] - 3s 61us/step - loss: 2.1547 - acc: 0.2195 - val_loss: 1.9846 - val_acc: 0.2901\n",
      "Epoch 2/25\n",
      "50000/50000 [==============================] - 1s 25us/step - loss: 1.8670 - acc: 0.3389 - val_loss: 1.8157 - val_acc: 0.3502\n",
      "Epoch 3/25\n",
      "50000/50000 [==============================] - 1s 25us/step - loss: 1.7520 - acc: 0.3831 - val_loss: 1.7399 - val_acc: 0.3809\n",
      "Epoch 4/25\n",
      "50000/50000 [==============================] - 1s 26us/step - loss: 1.6775 - acc: 0.4104 - val_loss: 1.6864 - val_acc: 0.3990\n",
      "Epoch 5/25\n",
      "50000/50000 [==============================] - 1s 24us/step - loss: 1.6208 - acc: 0.4311 - val_loss: 1.6464 - val_acc: 0.4163\n",
      "Epoch 6/25\n",
      "50000/50000 [==============================] - 1s 25us/step - loss: 1.5746 - acc: 0.4479 - val_loss: 1.6144 - val_acc: 0.4291\n",
      "Epoch 7/25\n",
      "50000/50000 [==============================] - 1s 28us/step - loss: 1.5353 - acc: 0.4599 - val_loss: 1.5911 - val_acc: 0.4346\n",
      "Epoch 8/25\n",
      "50000/50000 [==============================] - 1s 25us/step - loss: 1.4992 - acc: 0.4729 - val_loss: 1.5670 - val_acc: 0.4418\n",
      "Epoch 9/25\n",
      "50000/50000 [==============================] - 1s 24us/step - loss: 1.4673 - acc: 0.4851 - val_loss: 1.5516 - val_acc: 0.4488\n",
      "Epoch 10/25\n",
      "50000/50000 [==============================] - 1s 28us/step - loss: 1.4387 - acc: 0.4929 - val_loss: 1.5338 - val_acc: 0.4548\n",
      "Epoch 11/25\n",
      "50000/50000 [==============================] - 1s 26us/step - loss: 1.4109 - acc: 0.5027 - val_loss: 1.5233 - val_acc: 0.4608\n",
      "Epoch 12/25\n",
      "50000/50000 [==============================] - 1s 27us/step - loss: 1.3847 - acc: 0.5129 - val_loss: 1.5148 - val_acc: 0.4657\n",
      "Epoch 13/25\n",
      "50000/50000 [==============================] - 1s 29us/step - loss: 1.3606 - acc: 0.5216 - val_loss: 1.5120 - val_acc: 0.4656\n",
      "Epoch 14/25\n",
      "50000/50000 [==============================] - 1s 24us/step - loss: 1.3359 - acc: 0.5302 - val_loss: 1.4973 - val_acc: 0.4712\n",
      "Epoch 15/25\n",
      "50000/50000 [==============================] - 1s 24us/step - loss: 1.3125 - acc: 0.5396 - val_loss: 1.4887 - val_acc: 0.4738\n",
      "Epoch 16/25\n",
      "50000/50000 [==============================] - 1s 26us/step - loss: 1.2893 - acc: 0.5495 - val_loss: 1.4809 - val_acc: 0.4753\n",
      "Epoch 17/25\n",
      "50000/50000 [==============================] - 1s 26us/step - loss: 1.2670 - acc: 0.5568 - val_loss: 1.4752 - val_acc: 0.4812\n",
      "Epoch 18/25\n",
      "50000/50000 [==============================] - 1s 24us/step - loss: 1.2448 - acc: 0.5655 - val_loss: 1.4746 - val_acc: 0.4831\n",
      "Epoch 19/25\n",
      "50000/50000 [==============================] - 1s 26us/step - loss: 1.2238 - acc: 0.5729 - val_loss: 1.4656 - val_acc: 0.4832\n",
      "Epoch 20/25\n",
      "50000/50000 [==============================] - 1s 25us/step - loss: 1.2029 - acc: 0.5808 - val_loss: 1.4719 - val_acc: 0.4870\n",
      "Epoch 21/25\n",
      "50000/50000 [==============================] - 1s 24us/step - loss: 1.1816 - acc: 0.5894 - val_loss: 1.4642 - val_acc: 0.4878\n",
      "Epoch 22/25\n",
      "50000/50000 [==============================] - 1s 24us/step - loss: 1.1623 - acc: 0.5958 - val_loss: 1.4603 - val_acc: 0.4867\n",
      "Epoch 23/25\n",
      "50000/50000 [==============================] - 1s 24us/step - loss: 1.1420 - acc: 0.6040 - val_loss: 1.4627 - val_acc: 0.4901\n",
      "Epoch 24/25\n",
      "50000/50000 [==============================] - 1s 27us/step - loss: 1.1210 - acc: 0.6100 - val_loss: 1.4625 - val_acc: 0.4879\n",
      "Epoch 25/25\n",
      "50000/50000 [==============================] - 1s 25us/step - loss: 1.0997 - acc: 0.6193 - val_loss: 1.4688 - val_acc: 0.4912\n"
     ]
    }
   ],
   "source": [
    "model = build_mlp(input_shape=x_train.shape)\n",
    "model.summary()\n",
    "optimizer = keras.optimizers.SGD(lr=LEARNING_RATE, nesterov=True, momentum=MOMENTUM)\n",
    "model.compile(loss=\"categorical_crossentropy\", metrics=[\"accuracy\"], optimizer=optimizer)\n",
    "\n",
    "model.fit(x_train, y_train, \n",
    "          epochs=EPOCHS, \n",
    "          batch_size=BATCH_SIZE, \n",
    "          validation_data=(x_test, y_test), \n",
    "          shuffle=True,\n",
    "          callbacks=[rec_tptn]\n",
    "         )\n",
    "# Collect results\n",
    "train_loss = model.history.history[\"loss\"]\n",
    "valid_loss = model.history.history[\"val_loss\"]\n",
    "train_acc = model.history.history[\"acc\"]\n",
    "valid_acc = model.history.history[\"val_acc\"]\n",
    "\n",
    "valid_tp = model.history.history[\"val_tp\"]\n",
    "valid_tn = model.history.history[\"val_tn\"]"
   ]
  },
  {
   "cell_type": "code",
   "execution_count": 11,
   "metadata": {},
   "outputs": [
    {
     "data": {
      "image/png": "[encoded data removed]",
      "text/plain": [
       "<Figure size 432x288 with 1 Axes>"
      ]
     },
     "metadata": {
      "needs_background": "light"
     },
     "output_type": "display_data"
    },
    {
     "data": {
      "image/png": "[encoded data removed]",
      "text/plain": [
       "<Figure size 432x288 with 1 Axes>"
      ]
     },
     "metadata": {
      "needs_background": "light"
     },
     "output_type": "display_data"
    },
    {
     "data": {
      "image/png": "[encoded data removed]",
      "text/plain": [
       "<Figure size 432x288 with 1 Axes>"
      ]
     },
     "metadata": {
      "needs_background": "light"
     },
     "output_type": "display_data"
    }
   ],
   "source": [
    "import matplotlib.pyplot as plt\n",
    "%matplotlib inline\n",
    "\n",
    "plt.plot(range(len(train_loss)), train_loss, label=\"train loss\")\n",
    "plt.plot(range(len(valid_loss)), valid_loss, label=\"valid loss\")\n",
    "plt.legend()\n",
    "plt.title(\"Loss\")\n",
    "plt.show()\n",
    "\n",
    "plt.plot(range(len(train_acc)), train_acc, label=\"train accuracy\")\n",
    "plt.plot(range(len(valid_acc)), valid_acc, label=\"valid accuracy\")\n",
    "plt.legend()\n",
    "plt.title(\"Accuracy\")\n",
    "plt.show()\n",
    "\n",
    "plt.plot(range(len(valid_tp)), valid_tp, label=\"valid tp\", color=\"navy\")\n",
    "plt.plot(range(len(valid_tn)), valid_tn, label=\"valid tn\", color=\"red\")\n",
    "plt.legend()\n",
    "plt.title(\"True positives and True Negatives\")\n",
    "plt.show()\n"
   ]
  },
  {
   "cell_type": "code",
   "execution_count": null,
   "metadata": {},
   "outputs": [],
   "source": []
  }
 ],
 "metadata": {
  "kernelspec": {
   "display_name": "Python 3",
   "language": "python",
   "name": "python3"
  },
  "language_info": {
   "codemirror_mode": {
    "name": "ipython",
    "version": 3
   },
   "file_extension": ".py",
   "mimetype": "text/x-python",
   "name": "python",
   "nbconvert_exporter": "python",
   "pygments_lexer": "ipython3",
   "version": "3.6.6"
  }
 },
 "nbformat": 4,
 "nbformat_minor": 2
}
