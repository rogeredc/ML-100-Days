{
 "cells": [
  {
   "cell_type": "markdown",
   "metadata": {},
   "source": [
    "## Work\n",
    "1. 請嘗試將 preproc_x 替換成以每筆資料的 min/max 進行標準化至 -1 ~ 1 間，再進行訓練\n",
    "2. 請嘗試將 mlp 疊更深 (e.g 5~10 層)，進行訓練後觀察 learning curve 的走勢\n",
    "3. (optional) 請改用 GPU 進行訓練 (如果你有 GPU 的話)，比較使用 CPU 與 GPU 的訓練速度"
   ]
  },
  {
   "cell_type": "code",
   "execution_count": 1,
   "metadata": {},
   "outputs": [
    {
     "name": "stdout",
     "output_type": "stream",
     "text": [
      "Mon Apr  1 11:09:50 2019       \n",
      "+-----------------------------------------------------------------------------+\n",
      "| NVIDIA-SMI 390.67                 Driver Version: 390.67                    |\n",
      "|-------------------------------+----------------------+----------------------+\n",
      "| GPU  Name        Persistence-M| Bus-Id        Disp.A | Volatile Uncorr. ECC |\n",
      "| Fan  Temp  Perf  Pwr:Usage/Cap|         Memory-Usage | GPU-Util  Compute M. |\n",
      "|===============================+======================+======================|\n",
      "|   0  GeForce GTX 108...  Off  | 00000000:0D:00.0 Off |                  N/A |\n",
      "| 23%   26C    P8     8W / 250W |      0MiB / 11178MiB |      0%      Default |\n",
      "+-------------------------------+----------------------+----------------------+\n",
      "                                                                               \n",
      "+-----------------------------------------------------------------------------+\n",
      "| Processes:                                                       GPU Memory |\n",
      "|  GPU       PID   Type   Process name                             Usage      |\n",
      "|=============================================================================|\n",
      "|  No running processes found                                                 |\n",
      "+-----------------------------------------------------------------------------+\n"
     ]
    }
   ],
   "source": [
    "## 確認硬體資源\n",
    "!nvidia-smi"
   ]
  },
  {
   "cell_type": "code",
   "execution_count": 2,
   "metadata": {},
   "outputs": [
    {
     "name": "stderr",
     "output_type": "stream",
     "text": [
      "/opt/conda/lib/python3.6/site-packages/h5py/__init__.py:36: FutureWarning: Conversion of the second argument of issubdtype from `float` to `np.floating` is deprecated. In future, it will be treated as `np.float64 == np.dtype(float).type`.\n",
      "  from ._conv import register_converters as _register_converters\n",
      "Using TensorFlow backend.\n"
     ]
    }
   ],
   "source": [
    "import os\n",
    "import keras\n",
    "\n",
    "# Try to enable GPU (optional)\n"
   ]
  },
  {
   "cell_type": "code",
   "execution_count": 6,
   "metadata": {},
   "outputs": [],
   "source": [
    "train, test = keras.datasets.cifar10.load_data()"
   ]
  },
  {
   "cell_type": "code",
   "execution_count": 13,
   "metadata": {},
   "outputs": [],
   "source": [
    "## 資料前處理\n",
    "\"\"\"\n",
    "Your code here\n",
    "\"\"\"\n",
    "def preproc_x(x,flatten=True):\n",
    "    x = x / 255.\n",
    "    if flatten:\n",
    "        x = x.reshape((len(x), -1))\n",
    "        x = (x - x.min(axis=0)) / (x.max(axis=0) - x.min(axis=0)) * 2 - 1\n",
    "        if not flatten:\n",
    "            x = x.reshape(original_shape)\n",
    "    return x\n",
    "\n",
    "def preproc_y(y,num_classes=10):\n",
    "    if y.shape[-1] == 1:\n",
    "        y = keras.utils.to_categorical(y, num_classes)\n",
    "    return y  "
   ]
  },
  {
   "cell_type": "code",
   "execution_count": 15,
   "metadata": {},
   "outputs": [],
   "source": [
    "x_train, y_train = train\n",
    "x_test, y_test = test\n",
    "\n",
    "# Preproc the inputs\n",
    "x_train = preproc_x(x_train)\n",
    "x_test = preproc_x(x_test)\n",
    "\n",
    "# Preprc the outputs\n",
    "y_train = preproc_y(y_train)\n",
    "y_test = preproc_y(y_test)"
   ]
  },
  {
   "cell_type": "code",
   "execution_count": 22,
   "metadata": {},
   "outputs": [
    {
     "name": "stdout",
     "output_type": "stream",
     "text": [
      "_________________________________________________________________\n",
      "Layer (type)                 Output Shape              Param #   \n",
      "=================================================================\n",
      "input_1 (InputLayer)         (None, 3072)              0         \n",
      "_________________________________________________________________\n",
      "hidden_layer1 (Dense)        (None, 512)               1573376   \n",
      "_________________________________________________________________\n",
      "hidden_layer2 (Dense)        (None, 256)               131328    \n",
      "_________________________________________________________________\n",
      "hidden_layer3 (Dense)        (None, 128)               32896     \n",
      "_________________________________________________________________\n",
      "hidden_layer4 (Dense)        (None, 64)                8256      \n",
      "_________________________________________________________________\n",
      "hidden_layer5 (Dense)        (None, 32)                2080      \n",
      "_________________________________________________________________\n",
      "output (Dense)               (None, 10)                330       \n",
      "=================================================================\n",
      "Total params: 1,748,266\n",
      "Trainable params: 1,748,266\n",
      "Non-trainable params: 0\n",
      "_________________________________________________________________\n"
     ]
    }
   ],
   "source": [
    "\"\"\"\n",
    "Your code here\n",
    "\"\"\"\n",
    "def build_mlp(input_shape, output_units=10, num_neurons=[512, 256, 128,64,32]):\n",
    "    input_layer = keras.layers.Input(input_shape)\n",
    "    \n",
    "    for i, n_units in enumerate(num_neurons):\n",
    "        if i == 0:\n",
    "            x = keras.layers.Dense(units=n_units, activation=\"relu\", name=\"hidden_layer\"+str(i+1))(input_layer)\n",
    "        else:\n",
    "            x = keras.layers.Dense(units=n_units, activation=\"relu\", name=\"hidden_layer\"+str(i+1))(x)\n",
    "    \n",
    "    out = keras.layers.Dense(units=output_units, activation=\"softmax\", name=\"output\")(x)\n",
    "    \n",
    "    model = keras.models.Model(inputs=[input_layer], outputs=[out])\n",
    "    return model\n",
    "\n",
    "model = build_mlp((x_train.shape[1],))\n",
    "model.summary()"
   ]
  },
  {
   "cell_type": "code",
   "execution_count": 26,
   "metadata": {},
   "outputs": [],
   "source": [
    "## 超參數設定\n",
    "LEARNING_RATE = 0.001\n",
    "EPOCHS = 100\n",
    "BATCH_SIZE = 256"
   ]
  },
  {
   "cell_type": "code",
   "execution_count": 27,
   "metadata": {},
   "outputs": [],
   "source": [
    "optimizer = keras.optimizers.Adam(lr=LEARNING_RATE)\n",
    "model.compile(loss=\"categorical_crossentropy\", metrics=[\"accuracy\"], optimizer=optimizer)"
   ]
  },
  {
   "cell_type": "code",
   "execution_count": 28,
   "metadata": {},
   "outputs": [
    {
     "name": "stdout",
     "output_type": "stream",
     "text": [
      "Train on 50000 samples, validate on 10000 samples\n",
      "Epoch 1/100\n",
      "50000/50000 [==============================] - 7s 144us/step - loss: 1.7286 - acc: 0.3885 - val_loss: 1.5739 - val_acc: 0.4465\n",
      "Epoch 2/100\n",
      "50000/50000 [==============================] - 1s 25us/step - loss: 1.4927 - acc: 0.4726 - val_loss: 1.4517 - val_acc: 0.4884\n",
      "Epoch 3/100\n",
      "50000/50000 [==============================] - 1s 25us/step - loss: 1.3701 - acc: 0.5173 - val_loss: 1.4318 - val_acc: 0.4935\n",
      "Epoch 4/100\n",
      "50000/50000 [==============================] - 1s 25us/step - loss: 1.2751 - acc: 0.5505 - val_loss: 1.3750 - val_acc: 0.5156\n",
      "Epoch 5/100\n",
      "50000/50000 [==============================] - 1s 25us/step - loss: 1.1887 - acc: 0.5808 - val_loss: 1.3802 - val_acc: 0.5197\n",
      "Epoch 6/100\n",
      "50000/50000 [==============================] - 1s 25us/step - loss: 1.1089 - acc: 0.6085 - val_loss: 1.3587 - val_acc: 0.5318\n",
      "Epoch 7/100\n",
      "50000/50000 [==============================] - 1s 25us/step - loss: 1.0361 - acc: 0.6347 - val_loss: 1.3646 - val_acc: 0.5298\n",
      "Epoch 8/100\n",
      "50000/50000 [==============================] - 1s 25us/step - loss: 0.9615 - acc: 0.6599 - val_loss: 1.4033 - val_acc: 0.5386\n",
      "Epoch 9/100\n",
      "50000/50000 [==============================] - 2s 33us/step - loss: 0.8875 - acc: 0.6850 - val_loss: 1.4104 - val_acc: 0.5311\n",
      "Epoch 10/100\n",
      "50000/50000 [==============================] - 2s 38us/step - loss: 0.8275 - acc: 0.7056 - val_loss: 1.4548 - val_acc: 0.5268\n",
      "Epoch 11/100\n",
      "50000/50000 [==============================] - 1s 26us/step - loss: 0.7590 - acc: 0.7309 - val_loss: 1.4996 - val_acc: 0.5371\n",
      "Epoch 12/100\n",
      "50000/50000 [==============================] - 1s 24us/step - loss: 0.6930 - acc: 0.7538 - val_loss: 1.6383 - val_acc: 0.5266\n",
      "Epoch 13/100\n",
      "50000/50000 [==============================] - 1s 24us/step - loss: 0.6335 - acc: 0.7765 - val_loss: 1.6240 - val_acc: 0.5304\n",
      "Epoch 14/100\n",
      "50000/50000 [==============================] - 1s 24us/step - loss: 0.5870 - acc: 0.7932 - val_loss: 1.7210 - val_acc: 0.5365\n",
      "Epoch 15/100\n",
      "50000/50000 [==============================] - 1s 24us/step - loss: 0.5392 - acc: 0.8083 - val_loss: 1.7789 - val_acc: 0.5353\n",
      "Epoch 16/100\n",
      "50000/50000 [==============================] - 1s 24us/step - loss: 0.4885 - acc: 0.8264 - val_loss: 1.8516 - val_acc: 0.5339\n",
      "Epoch 17/100\n",
      "50000/50000 [==============================] - 1s 26us/step - loss: 0.4544 - acc: 0.8370 - val_loss: 1.9360 - val_acc: 0.5264\n",
      "Epoch 18/100\n",
      "50000/50000 [==============================] - 1s 29us/step - loss: 0.4063 - acc: 0.8552 - val_loss: 2.0565 - val_acc: 0.5326\n",
      "Epoch 19/100\n",
      "50000/50000 [==============================] - 1s 24us/step - loss: 0.3711 - acc: 0.8696 - val_loss: 2.1704 - val_acc: 0.5214\n",
      "Epoch 20/100\n",
      "50000/50000 [==============================] - 1s 24us/step - loss: 0.3524 - acc: 0.8754 - val_loss: 2.1417 - val_acc: 0.5315\n",
      "Epoch 21/100\n",
      "50000/50000 [==============================] - 1s 24us/step - loss: 0.3140 - acc: 0.8909 - val_loss: 2.3038 - val_acc: 0.5303\n",
      "Epoch 22/100\n",
      "50000/50000 [==============================] - 1s 24us/step - loss: 0.3089 - acc: 0.8908 - val_loss: 2.3850 - val_acc: 0.5322\n",
      "Epoch 23/100\n",
      "50000/50000 [==============================] - 1s 25us/step - loss: 0.2884 - acc: 0.9000 - val_loss: 2.4945 - val_acc: 0.5356\n",
      "Epoch 24/100\n",
      "50000/50000 [==============================] - 2s 30us/step - loss: 0.2611 - acc: 0.9089 - val_loss: 2.4578 - val_acc: 0.5320\n",
      "Epoch 25/100\n",
      "50000/50000 [==============================] - 1s 25us/step - loss: 0.2466 - acc: 0.9135 - val_loss: 2.5263 - val_acc: 0.5344\n",
      "Epoch 26/100\n",
      "50000/50000 [==============================] - 1s 24us/step - loss: 0.2355 - acc: 0.9181 - val_loss: 2.7068 - val_acc: 0.5276\n",
      "Epoch 27/100\n",
      "50000/50000 [==============================] - 1s 24us/step - loss: 0.2239 - acc: 0.9211 - val_loss: 2.7754 - val_acc: 0.5301\n",
      "Epoch 28/100\n",
      "50000/50000 [==============================] - 1s 24us/step - loss: 0.2226 - acc: 0.9221 - val_loss: 2.7308 - val_acc: 0.5299\n",
      "Epoch 29/100\n",
      "50000/50000 [==============================] - 1s 24us/step - loss: 0.2026 - acc: 0.9295 - val_loss: 2.8119 - val_acc: 0.5312\n",
      "Epoch 30/100\n",
      "50000/50000 [==============================] - 1s 24us/step - loss: 0.1957 - acc: 0.9312 - val_loss: 2.8495 - val_acc: 0.5281\n",
      "Epoch 31/100\n",
      "50000/50000 [==============================] - 1s 27us/step - loss: 0.1837 - acc: 0.9371 - val_loss: 3.0575 - val_acc: 0.5246\n",
      "Epoch 32/100\n",
      "50000/50000 [==============================] - 1s 28us/step - loss: 0.1956 - acc: 0.9334 - val_loss: 2.9425 - val_acc: 0.5281\n",
      "Epoch 33/100\n",
      "50000/50000 [==============================] - 1s 25us/step - loss: 0.1697 - acc: 0.9416 - val_loss: 3.0740 - val_acc: 0.5291\n",
      "Epoch 34/100\n",
      "50000/50000 [==============================] - 1s 24us/step - loss: 0.1646 - acc: 0.9420 - val_loss: 3.0797 - val_acc: 0.5259\n",
      "Epoch 35/100\n",
      "50000/50000 [==============================] - 1s 24us/step - loss: 0.1660 - acc: 0.9430 - val_loss: 3.0945 - val_acc: 0.5214\n",
      "Epoch 36/100\n",
      "50000/50000 [==============================] - 1s 24us/step - loss: 0.1703 - acc: 0.9417 - val_loss: 3.1898 - val_acc: 0.5244\n",
      "Epoch 37/100\n",
      "50000/50000 [==============================] - 1s 24us/step - loss: 0.1642 - acc: 0.9429 - val_loss: 3.2574 - val_acc: 0.5276\n",
      "Epoch 38/100\n",
      "50000/50000 [==============================] - 1s 24us/step - loss: 0.1357 - acc: 0.9542 - val_loss: 3.2686 - val_acc: 0.5274\n",
      "Epoch 39/100\n",
      "50000/50000 [==============================] - 1s 25us/step - loss: 0.1279 - acc: 0.9571 - val_loss: 3.3858 - val_acc: 0.5261\n",
      "Epoch 40/100\n",
      "50000/50000 [==============================] - 1s 25us/step - loss: 0.1587 - acc: 0.9465 - val_loss: 3.2648 - val_acc: 0.5218\n",
      "Epoch 41/100\n",
      "50000/50000 [==============================] - 1s 27us/step - loss: 0.1430 - acc: 0.9513 - val_loss: 3.2449 - val_acc: 0.5274\n",
      "Epoch 42/100\n",
      "50000/50000 [==============================] - 1s 28us/step - loss: 0.1375 - acc: 0.9539 - val_loss: 3.2863 - val_acc: 0.5286\n",
      "Epoch 43/100\n",
      "50000/50000 [==============================] - 1s 25us/step - loss: 0.1300 - acc: 0.9564 - val_loss: 3.4072 - val_acc: 0.5271\n",
      "Epoch 44/100\n",
      "50000/50000 [==============================] - 1s 24us/step - loss: 0.1264 - acc: 0.9566 - val_loss: 3.4103 - val_acc: 0.5273\n",
      "Epoch 45/100\n",
      "50000/50000 [==============================] - 1s 24us/step - loss: 0.1160 - acc: 0.9606 - val_loss: 3.4788 - val_acc: 0.5269\n",
      "Epoch 46/100\n",
      "50000/50000 [==============================] - 1s 24us/step - loss: 0.1335 - acc: 0.9553 - val_loss: 3.3721 - val_acc: 0.5228\n",
      "Epoch 47/100\n",
      "50000/50000 [==============================] - 1s 24us/step - loss: 0.1260 - acc: 0.9572 - val_loss: 3.4957 - val_acc: 0.5180\n",
      "Epoch 48/100\n",
      "50000/50000 [==============================] - 1s 24us/step - loss: 0.1156 - acc: 0.9600 - val_loss: 3.5229 - val_acc: 0.5302\n",
      "Epoch 49/100\n",
      "50000/50000 [==============================] - 1s 24us/step - loss: 0.1136 - acc: 0.9625 - val_loss: 3.5148 - val_acc: 0.5287\n",
      "Epoch 50/100\n",
      "50000/50000 [==============================] - 1s 24us/step - loss: 0.1282 - acc: 0.9576 - val_loss: 3.5415 - val_acc: 0.5217\n",
      "Epoch 51/100\n",
      "50000/50000 [==============================] - 1s 24us/step - loss: 0.1228 - acc: 0.9583 - val_loss: 3.5788 - val_acc: 0.5200\n",
      "Epoch 52/100\n",
      "50000/50000 [==============================] - 1s 25us/step - loss: 0.1106 - acc: 0.9632 - val_loss: 3.5599 - val_acc: 0.5241\n",
      "Epoch 53/100\n",
      "50000/50000 [==============================] - 1s 26us/step - loss: 0.1058 - acc: 0.9654 - val_loss: 3.5859 - val_acc: 0.5254\n",
      "Epoch 54/100\n",
      "50000/50000 [==============================] - 1s 26us/step - loss: 0.0995 - acc: 0.9675 - val_loss: 3.5780 - val_acc: 0.5222\n",
      "Epoch 55/100\n",
      "50000/50000 [==============================] - 1s 26us/step - loss: 0.0925 - acc: 0.9691 - val_loss: 3.6075 - val_acc: 0.5328\n",
      "Epoch 56/100\n",
      "50000/50000 [==============================] - 1s 24us/step - loss: 0.1345 - acc: 0.9552 - val_loss: 3.5533 - val_acc: 0.5301\n",
      "Epoch 57/100\n",
      "50000/50000 [==============================] - 1s 25us/step - loss: 0.0947 - acc: 0.9681 - val_loss: 3.6342 - val_acc: 0.5273\n",
      "Epoch 58/100\n",
      "50000/50000 [==============================] - 1s 25us/step - loss: 0.1096 - acc: 0.9625 - val_loss: 3.6580 - val_acc: 0.5196\n",
      "Epoch 59/100\n",
      "50000/50000 [==============================] - 1s 26us/step - loss: 0.1032 - acc: 0.9655 - val_loss: 3.6428 - val_acc: 0.5267\n",
      "Epoch 60/100\n",
      "50000/50000 [==============================] - 1s 24us/step - loss: 0.1039 - acc: 0.9655 - val_loss: 3.6823 - val_acc: 0.5267\n",
      "Epoch 61/100\n",
      "50000/50000 [==============================] - 1s 24us/step - loss: 0.0884 - acc: 0.9699 - val_loss: 3.7138 - val_acc: 0.5387\n",
      "Epoch 62/100\n",
      "50000/50000 [==============================] - 1s 24us/step - loss: 0.0922 - acc: 0.9696 - val_loss: 3.5590 - val_acc: 0.5271\n",
      "Epoch 63/100\n",
      "50000/50000 [==============================] - 1s 25us/step - loss: 0.0860 - acc: 0.9716 - val_loss: 3.7565 - val_acc: 0.5303\n",
      "Epoch 64/100\n",
      "50000/50000 [==============================] - 1s 24us/step - loss: 0.0967 - acc: 0.9689 - val_loss: 3.8512 - val_acc: 0.5172\n",
      "Epoch 65/100\n",
      "50000/50000 [==============================] - 1s 25us/step - loss: 0.1123 - acc: 0.9627 - val_loss: 3.7526 - val_acc: 0.5264\n",
      "Epoch 66/100\n",
      "50000/50000 [==============================] - 1s 24us/step - loss: 0.0767 - acc: 0.9746 - val_loss: 3.7792 - val_acc: 0.5329\n",
      "Epoch 67/100\n",
      "50000/50000 [==============================] - 1s 24us/step - loss: 0.0673 - acc: 0.9776 - val_loss: 3.8420 - val_acc: 0.5284\n",
      "Epoch 68/100\n",
      "50000/50000 [==============================] - 1s 24us/step - loss: 0.0911 - acc: 0.9706 - val_loss: 3.7944 - val_acc: 0.5308\n",
      "Epoch 69/100\n",
      "50000/50000 [==============================] - 1s 24us/step - loss: 0.0949 - acc: 0.9688 - val_loss: 3.7884 - val_acc: 0.5301\n",
      "Epoch 70/100\n",
      "50000/50000 [==============================] - 1s 24us/step - loss: 0.1040 - acc: 0.9657 - val_loss: 3.7538 - val_acc: 0.5274\n",
      "Epoch 71/100\n",
      "50000/50000 [==============================] - 1s 27us/step - loss: 0.0826 - acc: 0.9735 - val_loss: 3.7766 - val_acc: 0.5298\n",
      "Epoch 72/100\n",
      "50000/50000 [==============================] - 1s 24us/step - loss: 0.0808 - acc: 0.9739 - val_loss: 3.8573 - val_acc: 0.5218\n",
      "Epoch 73/100\n",
      "50000/50000 [==============================] - 1s 26us/step - loss: 0.0846 - acc: 0.9722 - val_loss: 3.9153 - val_acc: 0.5212\n",
      "Epoch 74/100\n",
      "50000/50000 [==============================] - 1s 24us/step - loss: 0.0944 - acc: 0.9691 - val_loss: 3.8076 - val_acc: 0.5309\n",
      "Epoch 75/100\n",
      "50000/50000 [==============================] - 1s 24us/step - loss: 0.0613 - acc: 0.9803 - val_loss: 3.9894 - val_acc: 0.5249\n",
      "Epoch 76/100\n",
      "50000/50000 [==============================] - 1s 24us/step - loss: 0.1005 - acc: 0.9667 - val_loss: 3.8454 - val_acc: 0.5217\n",
      "Epoch 77/100\n",
      "50000/50000 [==============================] - 1s 25us/step - loss: 0.0802 - acc: 0.9742 - val_loss: 3.8266 - val_acc: 0.5285\n",
      "Epoch 78/100\n",
      "50000/50000 [==============================] - 1s 25us/step - loss: 0.0661 - acc: 0.9783 - val_loss: 3.9341 - val_acc: 0.5270\n",
      "Epoch 79/100\n",
      "50000/50000 [==============================] - 1s 26us/step - loss: 0.0748 - acc: 0.9754 - val_loss: 3.8490 - val_acc: 0.5218\n",
      "Epoch 80/100\n",
      "50000/50000 [==============================] - 1s 26us/step - loss: 0.0872 - acc: 0.9714 - val_loss: 3.9758 - val_acc: 0.5249\n",
      "Epoch 81/100\n",
      "50000/50000 [==============================] - 1s 24us/step - loss: 0.0740 - acc: 0.9765 - val_loss: 3.9417 - val_acc: 0.5263\n",
      "Epoch 82/100\n",
      "50000/50000 [==============================] - 1s 24us/step - loss: 0.0674 - acc: 0.9778 - val_loss: 3.9909 - val_acc: 0.5260\n",
      "Epoch 83/100\n",
      "50000/50000 [==============================] - 1s 24us/step - loss: 0.0783 - acc: 0.9736 - val_loss: 4.0267 - val_acc: 0.5230\n",
      "Epoch 84/100\n",
      "50000/50000 [==============================] - 1s 24us/step - loss: 0.0919 - acc: 0.9698 - val_loss: 4.0459 - val_acc: 0.5315\n",
      "Epoch 85/100\n",
      "50000/50000 [==============================] - 1s 24us/step - loss: 0.0606 - acc: 0.9800 - val_loss: 3.9863 - val_acc: 0.5274\n",
      "Epoch 86/100\n",
      "50000/50000 [==============================] - 1s 24us/step - loss: 0.0579 - acc: 0.9813 - val_loss: 4.1753 - val_acc: 0.5246\n",
      "Epoch 87/100\n",
      "50000/50000 [==============================] - 1s 24us/step - loss: 0.0786 - acc: 0.9748 - val_loss: 3.9821 - val_acc: 0.5282\n",
      "Epoch 88/100\n",
      "50000/50000 [==============================] - 1s 24us/step - loss: 0.0882 - acc: 0.9712 - val_loss: 3.8259 - val_acc: 0.5208\n",
      "Epoch 89/100\n",
      "50000/50000 [==============================] - 1s 25us/step - loss: 0.0610 - acc: 0.9799 - val_loss: 3.9420 - val_acc: 0.5246\n",
      "Epoch 90/100\n",
      "50000/50000 [==============================] - 1s 25us/step - loss: 0.0730 - acc: 0.9769 - val_loss: 3.9415 - val_acc: 0.5191\n",
      "Epoch 91/100\n",
      "50000/50000 [==============================] - 1s 25us/step - loss: 0.0624 - acc: 0.9797 - val_loss: 4.0773 - val_acc: 0.5270\n",
      "Epoch 92/100\n",
      "50000/50000 [==============================] - 1s 25us/step - loss: 0.0786 - acc: 0.9745 - val_loss: 3.9170 - val_acc: 0.5277\n",
      "Epoch 93/100\n",
      "50000/50000 [==============================] - 1s 24us/step - loss: 0.0669 - acc: 0.9785 - val_loss: 3.9922 - val_acc: 0.5361\n",
      "Epoch 94/100\n",
      "50000/50000 [==============================] - 1s 24us/step - loss: 0.0546 - acc: 0.9825 - val_loss: 4.0391 - val_acc: 0.5298\n",
      "Epoch 95/100\n",
      "50000/50000 [==============================] - 1s 24us/step - loss: 0.0628 - acc: 0.9800 - val_loss: 4.0313 - val_acc: 0.5210\n",
      "Epoch 96/100\n",
      "50000/50000 [==============================] - 1s 24us/step - loss: 0.0636 - acc: 0.9789 - val_loss: 4.1077 - val_acc: 0.5294\n",
      "Epoch 97/100\n",
      "50000/50000 [==============================] - 1s 26us/step - loss: 0.0698 - acc: 0.9773 - val_loss: 4.1522 - val_acc: 0.5173\n",
      "Epoch 98/100\n",
      "50000/50000 [==============================] - 1s 25us/step - loss: 0.0899 - acc: 0.9708 - val_loss: 3.9800 - val_acc: 0.5315\n",
      "Epoch 99/100\n",
      "50000/50000 [==============================] - 1s 26us/step - loss: 0.0567 - acc: 0.9813 - val_loss: 4.0352 - val_acc: 0.5304\n",
      "Epoch 100/100\n",
      "50000/50000 [==============================] - 1s 25us/step - loss: 0.0653 - acc: 0.9782 - val_loss: 4.0067 - val_acc: 0.5272\n"
     ]
    },
    {
     "data": {
      "text/plain": [
       "<keras.callbacks.History at 0x7f5e00b7de10>"
      ]
     },
     "execution_count": 28,
     "metadata": {},
     "output_type": "execute_result"
    }
   ],
   "source": [
    "model.fit(x_train, y_train, \n",
    "          epochs=EPOCHS, \n",
    "          batch_size=BATCH_SIZE, \n",
    "          validation_data=(x_test, y_test), \n",
    "          shuffle=True)"
   ]
  },
  {
   "cell_type": "code",
   "execution_count": 30,
   "metadata": {},
   "outputs": [
    {
     "data": {
      "image/png": "[encoded data removed]",
      "text/plain": [
       "<Figure size 432x288 with 1 Axes>"
      ]
     },
     "metadata": {
      "needs_background": "light"
     },
     "output_type": "display_data"
    },
    {
     "data": {
      "image/png": "[encoded data removed]",
      "text/plain": [
       "<Figure size 432x288 with 1 Axes>"
      ]
     },
     "metadata": {
      "needs_background": "light"
     },
     "output_type": "display_data"
    }
   ],
   "source": [
    "import matplotlib.pyplot as plt\n",
    "\n",
    "\n",
    "train_loss = model.history.history[\"loss\"]\n",
    "valid_loss = model.history.history[\"val_loss\"]\n",
    "\n",
    "train_acc = model.history.history[\"acc\"]\n",
    "valid_acc = model.history.history[\"val_acc\"]\n",
    "\n",
    "plt.plot(range(len(train_loss)), train_loss, label=\"train loss\")\n",
    "plt.plot(range(len(valid_loss)), valid_loss, label=\"valid loss\")\n",
    "plt.legend()\n",
    "plt.title(\"Loss\")\n",
    "plt.show()\n",
    "\n",
    "plt.plot(range(len(train_acc)), train_acc, label=\"train accuracy\")\n",
    "plt.plot(range(len(valid_acc)), valid_acc, label=\"valid accuracy\")\n",
    "plt.legend()\n",
    "plt.title(\"Accuracy\")\n",
    "plt.show()"
   ]
  },
  {
   "cell_type": "code",
   "execution_count": null,
   "metadata": {},
   "outputs": [],
   "source": []
  },
  {
   "cell_type": "code",
   "execution_count": 25,
   "metadata": {},
   "outputs": [
    {
     "ename": "AttributeError",
     "evalue": "'tuple' object has no attribute 'shape'",
     "output_type": "error",
     "traceback": [
      "\u001b[0;31m---------------------------------------------------------------------------\u001b[0m",
      "\u001b[0;31mAttributeError\u001b[0m                            Traceback (most recent call last)",
      "\u001b[0;32m<ipython-input-25-ece5dc48e24a>\u001b[0m in \u001b[0;36m<module>\u001b[0;34m()\u001b[0m\n\u001b[0;32m----> 1\u001b[0;31m \u001b[0mtrain\u001b[0m\u001b[0;34m.\u001b[0m\u001b[0mshape\u001b[0m\u001b[0;34m(\u001b[0m\u001b[0;34m)\u001b[0m\u001b[0;34m\u001b[0m\u001b[0m\n\u001b[0m",
      "\u001b[0;31mAttributeError\u001b[0m: 'tuple' object has no attribute 'shape'"
     ]
    }
   ],
   "source": []
  }
 ],
 "metadata": {
  "kernelspec": {
   "display_name": "Python 3",
   "language": "python",
   "name": "python3"
  },
  "language_info": {
   "codemirror_mode": {
    "name": "ipython",
    "version": 3
   },
   "file_extension": ".py",
   "mimetype": "text/x-python",
   "name": "python",
   "nbconvert_exporter": "python",
   "pygments_lexer": "ipython3",
   "version": "3.6.6"
  }
 },
 "nbformat": 4,
 "nbformat_minor": 2
}
