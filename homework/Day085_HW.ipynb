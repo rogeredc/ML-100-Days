{
 "cells": [
  {
   "cell_type": "markdown",
   "metadata": {},
   "source": [
    "## Work\n",
    "1. 試改變 monitor \"Validation Accuracy\" 並比較結果\n",
    "2. 調整 earlystop 的等待次數至 10, 25 並比較結果"
   ]
  },
  {
   "cell_type": "code",
   "execution_count": 1,
   "metadata": {},
   "outputs": [
    {
     "name": "stderr",
     "output_type": "stream",
     "text": [
      "/opt/conda/lib/python3.6/site-packages/h5py/__init__.py:36: FutureWarning: Conversion of the second argument of issubdtype from `float` to `np.floating` is deprecated. In future, it will be treated as `np.float64 == np.dtype(float).type`.\n",
      "  from ._conv import register_converters as _register_converters\n",
      "Using TensorFlow backend.\n"
     ]
    }
   ],
   "source": [
    "import os\n",
    "import keras\n",
    "import matplotlib.pyplot as plt\n",
    "%matplotlib inline\n",
    "\n"
   ]
  },
  {
   "cell_type": "code",
   "execution_count": 2,
   "metadata": {},
   "outputs": [],
   "source": [
    "train, test = keras.datasets.cifar10.load_data()"
   ]
  },
  {
   "cell_type": "code",
   "execution_count": 3,
   "metadata": {},
   "outputs": [],
   "source": [
    "## 資料前處理\n",
    "def preproc_x(x, flatten=True):\n",
    "    x = x / 255.\n",
    "    if flatten:\n",
    "        x = x.reshape((len(x), -1))\n",
    "    return x\n",
    "\n",
    "def preproc_y(y, num_classes=10):\n",
    "    if y.shape[-1] == 1:\n",
    "        y = keras.utils.to_categorical(y, num_classes)\n",
    "    return y    "
   ]
  },
  {
   "cell_type": "code",
   "execution_count": 4,
   "metadata": {},
   "outputs": [],
   "source": [
    "x_train, y_train = train\n",
    "x_test, y_test = test\n",
    "\n",
    "# Preproc the inputs\n",
    "x_train = preproc_x(x_train)\n",
    "x_test = preproc_x(x_test)\n",
    "\n",
    "# Preprc the outputs\n",
    "y_train = preproc_y(y_train)\n",
    "y_test = preproc_y(y_test)"
   ]
  },
  {
   "cell_type": "code",
   "execution_count": 5,
   "metadata": {},
   "outputs": [],
   "source": [
    "from keras.layers import BatchNormalization\n",
    "def build_mlp(input_shape, output_units=10, num_neurons=[512, 256, 128]):\n",
    "    input_layer = keras.layers.Input(input_shape)\n",
    "    \n",
    "    for i, n_units in enumerate(num_neurons):\n",
    "        if i == 0:\n",
    "            x = keras.layers.Dense(units=n_units, \n",
    "                                   activation=\"relu\", \n",
    "                                   name=\"hidden_layer\"+str(i+1))(input_layer)\n",
    "            x = BatchNormalization()(x)\n",
    "        else:\n",
    "            x = keras.layers.Dense(units=n_units, \n",
    "                                   activation=\"relu\", \n",
    "                                   name=\"hidden_layer\"+str(i+1))(x)\n",
    "            x = BatchNormalization()(x)\n",
    "    \n",
    "    out = keras.layers.Dense(units=output_units, activation=\"softmax\", name=\"output\")(x)\n",
    "    \n",
    "    model = keras.models.Model(inputs=[input_layer], outputs=[out])\n",
    "    return model"
   ]
  },
  {
   "cell_type": "code",
   "execution_count": 6,
   "metadata": {},
   "outputs": [],
   "source": [
    "## 超參數設定\n",
    "LEARNING_RATE = 1e-3\n",
    "EPOCHS = 50\n",
    "BATCH_SIZE = 1024\n",
    "MOMENTUM = 0.95"
   ]
  },
  {
   "cell_type": "code",
   "execution_count": 7,
   "metadata": {},
   "outputs": [
    {
     "name": "stdout",
     "output_type": "stream",
     "text": [
      "_________________________________________________________________\n",
      "Layer (type)                 Output Shape              Param #   \n",
      "=================================================================\n",
      "input_1 (InputLayer)         (None, 3072)              0         \n",
      "_________________________________________________________________\n",
      "hidden_layer1 (Dense)        (None, 512)               1573376   \n",
      "_________________________________________________________________\n",
      "batch_normalization_1 (Batch (None, 512)               2048      \n",
      "_________________________________________________________________\n",
      "hidden_layer2 (Dense)        (None, 256)               131328    \n",
      "_________________________________________________________________\n",
      "batch_normalization_2 (Batch (None, 256)               1024      \n",
      "_________________________________________________________________\n",
      "hidden_layer3 (Dense)        (None, 128)               32896     \n",
      "_________________________________________________________________\n",
      "batch_normalization_3 (Batch (None, 128)               512       \n",
      "_________________________________________________________________\n",
      "output (Dense)               (None, 10)                1290      \n",
      "=================================================================\n",
      "Total params: 1,742,474\n",
      "Trainable params: 1,740,682\n",
      "Non-trainable params: 1,792\n",
      "_________________________________________________________________\n",
      "Train on 50000 samples, validate on 10000 samples\n",
      "Epoch 1/50\n",
      "50000/50000 [==============================] - 4s 70us/step - loss: 2.2559 - acc: 0.2588 - val_loss: 2.0779 - val_acc: 0.3267\n",
      "Epoch 2/50\n",
      "50000/50000 [==============================] - 1s 23us/step - loss: 1.7590 - acc: 0.3904 - val_loss: 1.8486 - val_acc: 0.3733\n",
      "Epoch 3/50\n",
      "50000/50000 [==============================] - 1s 21us/step - loss: 1.6285 - acc: 0.4312 - val_loss: 1.7201 - val_acc: 0.3966\n",
      "Epoch 4/50\n",
      "50000/50000 [==============================] - 1s 24us/step - loss: 1.5535 - acc: 0.4543 - val_loss: 1.6459 - val_acc: 0.4144\n",
      "Epoch 5/50\n",
      "50000/50000 [==============================] - 1s 24us/step - loss: 1.4962 - acc: 0.4777 - val_loss: 1.5999 - val_acc: 0.4368\n",
      "Epoch 6/50\n",
      "50000/50000 [==============================] - 1s 23us/step - loss: 1.4510 - acc: 0.4917 - val_loss: 1.5630 - val_acc: 0.4518\n",
      "Epoch 7/50\n",
      "50000/50000 [==============================] - 1s 25us/step - loss: 1.4096 - acc: 0.5085 - val_loss: 1.5474 - val_acc: 0.4542\n",
      "Epoch 8/50\n",
      "50000/50000 [==============================] - 1s 25us/step - loss: 1.3743 - acc: 0.5200 - val_loss: 1.5280 - val_acc: 0.4631\n",
      "Epoch 9/50\n",
      "50000/50000 [==============================] - 1s 24us/step - loss: 1.3409 - acc: 0.5330 - val_loss: 1.5225 - val_acc: 0.4619\n",
      "Epoch 10/50\n",
      "50000/50000 [==============================] - 1s 24us/step - loss: 1.3106 - acc: 0.5438 - val_loss: 1.5048 - val_acc: 0.4726\n",
      "Epoch 11/50\n",
      "50000/50000 [==============================] - 2s 35us/step - loss: 1.2824 - acc: 0.5538 - val_loss: 1.4941 - val_acc: 0.4757\n",
      "Epoch 12/50\n",
      "50000/50000 [==============================] - 1s 26us/step - loss: 1.2562 - acc: 0.5649 - val_loss: 1.4869 - val_acc: 0.4799\n",
      "Epoch 13/50\n",
      "50000/50000 [==============================] - 1s 20us/step - loss: 1.2302 - acc: 0.5754 - val_loss: 1.4765 - val_acc: 0.4824\n",
      "Epoch 14/50\n",
      "50000/50000 [==============================] - 1s 22us/step - loss: 1.2053 - acc: 0.5840 - val_loss: 1.4667 - val_acc: 0.4864\n",
      "Epoch 15/50\n",
      "50000/50000 [==============================] - 1s 24us/step - loss: 1.1822 - acc: 0.5944 - val_loss: 1.4722 - val_acc: 0.4798\n",
      "Epoch 16/50\n",
      "50000/50000 [==============================] - 1s 25us/step - loss: 1.1577 - acc: 0.6031 - val_loss: 1.4728 - val_acc: 0.4789\n",
      "Epoch 17/50\n",
      "50000/50000 [==============================] - 1s 24us/step - loss: 1.1366 - acc: 0.6110 - val_loss: 1.4646 - val_acc: 0.4861\n",
      "Epoch 18/50\n",
      "50000/50000 [==============================] - 1s 30us/step - loss: 1.1138 - acc: 0.6186 - val_loss: 1.4610 - val_acc: 0.4941\n",
      "Epoch 19/50\n",
      "50000/50000 [==============================] - 1s 27us/step - loss: 1.0921 - acc: 0.6276 - val_loss: 1.4680 - val_acc: 0.4869\n",
      "Epoch 20/50\n",
      "50000/50000 [==============================] - 1s 23us/step - loss: 1.0733 - acc: 0.6340 - val_loss: 1.4722 - val_acc: 0.4867\n",
      "Epoch 21/50\n",
      "50000/50000 [==============================] - 1s 21us/step - loss: 1.0502 - acc: 0.6444 - val_loss: 1.4593 - val_acc: 0.4903\n",
      "Epoch 22/50\n",
      "50000/50000 [==============================] - 1s 23us/step - loss: 1.0286 - acc: 0.6526 - val_loss: 1.4688 - val_acc: 0.4893\n",
      "Epoch 23/50\n",
      "50000/50000 [==============================] - 1s 21us/step - loss: 1.0108 - acc: 0.6605 - val_loss: 1.4677 - val_acc: 0.4890\n",
      "Epoch 00023: early stopping\n"
     ]
    }
   ],
   "source": [
    "# 載入 Callbacks\n",
    "from keras.callbacks import EarlyStopping\n",
    "\n",
    "earlystop = EarlyStopping(monitor=\"val_acc\", \n",
    "                          patience=5, \n",
    "                          verbose=1)\n",
    "\n",
    "model = build_mlp(input_shape=x_train.shape[1:])\n",
    "model.summary()\n",
    "optimizer = keras.optimizers.SGD(lr=LEARNING_RATE, nesterov=True, momentum=MOMENTUM)\n",
    "model.compile(loss=\"categorical_crossentropy\", metrics=[\"accuracy\"], optimizer=optimizer)\n",
    "\n",
    "model.fit(x_train, y_train, \n",
    "          epochs=EPOCHS, \n",
    "          batch_size=BATCH_SIZE, \n",
    "          validation_data=(x_test, y_test), \n",
    "          shuffle=True,\n",
    "          callbacks=[earlystop]\n",
    "         )\n",
    "\n",
    "# Collect results\n",
    "train_loss = model.history.history[\"loss\"]\n",
    "valid_loss = model.history.history[\"val_loss\"]\n",
    "train_acc = model.history.history[\"acc\"]\n",
    "valid_acc = model.history.history[\"val_acc\"]"
   ]
  },
  {
   "cell_type": "code",
   "execution_count": 8,
   "metadata": {},
   "outputs": [
    {
     "data": {
      "image/png": "[encoded data removed]",
      "text/plain": [
       "<Figure size 432x288 with 1 Axes>"
      ]
     },
     "metadata": {
      "needs_background": "light"
     },
     "output_type": "display_data"
    },
    {
     "data": {
      "image/png": "[encoded data removed]",
      "text/plain": [
       "<Figure size 432x288 with 1 Axes>"
      ]
     },
     "metadata": {
      "needs_background": "light"
     },
     "output_type": "display_data"
    }
   ],
   "source": [
    "plt.plot(range(len(train_loss)), train_loss, label=\"train loss\")\n",
    "plt.plot(range(len(valid_loss)), valid_loss, label=\"valid loss\")\n",
    "plt.legend()\n",
    "plt.title(\"Loss\")\n",
    "plt.show()\n",
    "\n",
    "plt.plot(range(len(train_acc)), train_acc, label=\"train accuracy\")\n",
    "plt.plot(range(len(valid_acc)), valid_acc, label=\"valid accuracy\")\n",
    "plt.legend()\n",
    "plt.title(\"Accuracy\")\n",
    "plt.show()"
   ]
  },
  {
   "cell_type": "code",
   "execution_count": 12,
   "metadata": {},
   "outputs": [
    {
     "name": "stdout",
     "output_type": "stream",
     "text": [
      "_________________________________________________________________\n",
      "Layer (type)                 Output Shape              Param #   \n",
      "=================================================================\n",
      "input_3 (InputLayer)         (None, 3072)              0         \n",
      "_________________________________________________________________\n",
      "hidden_layer1 (Dense)        (None, 512)               1573376   \n",
      "_________________________________________________________________\n",
      "batch_normalization_7 (Batch (None, 512)               2048      \n",
      "_________________________________________________________________\n",
      "hidden_layer2 (Dense)        (None, 256)               131328    \n",
      "_________________________________________________________________\n",
      "batch_normalization_8 (Batch (None, 256)               1024      \n",
      "_________________________________________________________________\n",
      "hidden_layer3 (Dense)        (None, 128)               32896     \n",
      "_________________________________________________________________\n",
      "batch_normalization_9 (Batch (None, 128)               512       \n",
      "_________________________________________________________________\n",
      "output (Dense)               (None, 10)                1290      \n",
      "=================================================================\n",
      "Total params: 1,742,474\n",
      "Trainable params: 1,740,682\n",
      "Non-trainable params: 1,792\n",
      "_________________________________________________________________\n",
      "Train on 50000 samples, validate on 10000 samples\n",
      "Epoch 1/50\n",
      "50000/50000 [==============================] - 2s 34us/step - loss: 2.2010 - acc: 0.2726 - val_loss: 2.1133 - val_acc: 0.3223\n",
      "Epoch 2/50\n",
      "50000/50000 [==============================] - 1s 21us/step - loss: 1.7397 - acc: 0.3924 - val_loss: 1.8055 - val_acc: 0.3903\n",
      "Epoch 3/50\n",
      "50000/50000 [==============================] - 1s 20us/step - loss: 1.6177 - acc: 0.4321 - val_loss: 1.7048 - val_acc: 0.4092\n",
      "Epoch 4/50\n",
      "50000/50000 [==============================] - 1s 23us/step - loss: 1.5458 - acc: 0.4563 - val_loss: 1.6399 - val_acc: 0.4277\n",
      "Epoch 5/50\n",
      "50000/50000 [==============================] - 1s 20us/step - loss: 1.4914 - acc: 0.4761 - val_loss: 1.5842 - val_acc: 0.4477\n",
      "Epoch 6/50\n",
      "50000/50000 [==============================] - 1s 18us/step - loss: 1.4486 - acc: 0.4912 - val_loss: 1.5733 - val_acc: 0.4500\n",
      "Epoch 7/50\n",
      "50000/50000 [==============================] - 1s 18us/step - loss: 1.4088 - acc: 0.5069 - val_loss: 1.5543 - val_acc: 0.4560\n",
      "Epoch 8/50\n",
      "50000/50000 [==============================] - 1s 18us/step - loss: 1.3730 - acc: 0.5202 - val_loss: 1.5362 - val_acc: 0.4611\n",
      "Epoch 9/50\n",
      "50000/50000 [==============================] - 1s 19us/step - loss: 1.3426 - acc: 0.5303 - val_loss: 1.5130 - val_acc: 0.4686\n",
      "Epoch 10/50\n",
      "50000/50000 [==============================] - 1s 22us/step - loss: 1.3124 - acc: 0.5415 - val_loss: 1.5107 - val_acc: 0.4735\n",
      "Epoch 11/50\n",
      "50000/50000 [==============================] - 1s 19us/step - loss: 1.2845 - acc: 0.5513 - val_loss: 1.4927 - val_acc: 0.4759\n",
      "Epoch 12/50\n",
      "50000/50000 [==============================] - 1s 18us/step - loss: 1.2578 - acc: 0.5621 - val_loss: 1.4849 - val_acc: 0.4749\n",
      "Epoch 13/50\n",
      "50000/50000 [==============================] - 1s 18us/step - loss: 1.2330 - acc: 0.5716 - val_loss: 1.4917 - val_acc: 0.4774\n",
      "Epoch 14/50\n",
      "50000/50000 [==============================] - 1s 18us/step - loss: 1.2087 - acc: 0.5809 - val_loss: 1.4713 - val_acc: 0.4856\n",
      "Epoch 15/50\n",
      "50000/50000 [==============================] - 1s 18us/step - loss: 1.1841 - acc: 0.5891 - val_loss: 1.4741 - val_acc: 0.4823\n",
      "Epoch 16/50\n",
      "50000/50000 [==============================] - 1s 18us/step - loss: 1.1603 - acc: 0.6017 - val_loss: 1.4620 - val_acc: 0.4889\n",
      "Epoch 17/50\n",
      "50000/50000 [==============================] - 1s 18us/step - loss: 1.1375 - acc: 0.6063 - val_loss: 1.4638 - val_acc: 0.4866\n",
      "Epoch 18/50\n",
      "50000/50000 [==============================] - 1s 18us/step - loss: 1.1155 - acc: 0.6156 - val_loss: 1.4636 - val_acc: 0.4887\n",
      "Epoch 19/50\n",
      "50000/50000 [==============================] - 1s 18us/step - loss: 1.0936 - acc: 0.6238 - val_loss: 1.4573 - val_acc: 0.4861\n",
      "Epoch 20/50\n",
      "50000/50000 [==============================] - 1s 18us/step - loss: 1.0707 - acc: 0.6337 - val_loss: 1.4686 - val_acc: 0.4880\n",
      "Epoch 21/50\n",
      "50000/50000 [==============================] - 1s 18us/step - loss: 1.0496 - acc: 0.6421 - val_loss: 1.4656 - val_acc: 0.4865\n",
      "Epoch 22/50\n",
      "50000/50000 [==============================] - 1s 18us/step - loss: 1.0290 - acc: 0.6495 - val_loss: 1.4892 - val_acc: 0.4857\n",
      "Epoch 23/50\n",
      "50000/50000 [==============================] - 1s 18us/step - loss: 1.0065 - acc: 0.6582 - val_loss: 1.4594 - val_acc: 0.4916\n",
      "Epoch 24/50\n",
      "50000/50000 [==============================] - 1s 18us/step - loss: 0.9884 - acc: 0.6660 - val_loss: 1.4592 - val_acc: 0.4951\n",
      "Epoch 25/50\n",
      "50000/50000 [==============================] - 1s 18us/step - loss: 0.9668 - acc: 0.6733 - val_loss: 1.4802 - val_acc: 0.4911\n",
      "Epoch 26/50\n",
      "50000/50000 [==============================] - 1s 18us/step - loss: 0.9474 - acc: 0.6819 - val_loss: 1.4825 - val_acc: 0.4842\n",
      "Epoch 27/50\n",
      "50000/50000 [==============================] - 1s 18us/step - loss: 0.9266 - acc: 0.6886 - val_loss: 1.4926 - val_acc: 0.4906\n",
      "Epoch 28/50\n",
      "50000/50000 [==============================] - 1s 18us/step - loss: 0.9060 - acc: 0.6992 - val_loss: 1.4891 - val_acc: 0.4877\n",
      "Epoch 29/50\n",
      "50000/50000 [==============================] - 1s 18us/step - loss: 0.8868 - acc: 0.7044 - val_loss: 1.4920 - val_acc: 0.4887\n",
      "Epoch 30/50\n",
      "50000/50000 [==============================] - 1s 18us/step - loss: 0.8665 - acc: 0.7118 - val_loss: 1.5102 - val_acc: 0.4905\n",
      "Epoch 31/50\n",
      "50000/50000 [==============================] - 1s 18us/step - loss: 0.8457 - acc: 0.7197 - val_loss: 1.4921 - val_acc: 0.4927\n",
      "Epoch 32/50\n",
      "50000/50000 [==============================] - 1s 18us/step - loss: 0.8258 - acc: 0.7276 - val_loss: 1.4813 - val_acc: 0.4934\n",
      "Epoch 33/50\n",
      "50000/50000 [==============================] - 1s 18us/step - loss: 0.8055 - acc: 0.7355 - val_loss: 1.4997 - val_acc: 0.4961\n",
      "Epoch 34/50\n",
      "50000/50000 [==============================] - 1s 18us/step - loss: 0.7864 - acc: 0.7425 - val_loss: 1.5210 - val_acc: 0.4923\n",
      "Epoch 35/50\n",
      "50000/50000 [==============================] - 1s 19us/step - loss: 0.7691 - acc: 0.7519 - val_loss: 1.5164 - val_acc: 0.4900\n",
      "Epoch 36/50\n",
      "50000/50000 [==============================] - 1s 19us/step - loss: 0.7469 - acc: 0.7594 - val_loss: 1.5227 - val_acc: 0.4930\n",
      "Epoch 37/50\n",
      "50000/50000 [==============================] - 1s 19us/step - loss: 0.7306 - acc: 0.7653 - val_loss: 1.5396 - val_acc: 0.4936\n",
      "Epoch 38/50\n",
      "50000/50000 [==============================] - 1s 19us/step - loss: 0.7109 - acc: 0.7742 - val_loss: 1.5343 - val_acc: 0.4920\n",
      "Epoch 39/50\n",
      "50000/50000 [==============================] - 1s 18us/step - loss: 0.6910 - acc: 0.7807 - val_loss: 1.5508 - val_acc: 0.4868\n",
      "Epoch 40/50\n",
      "50000/50000 [==============================] - 1s 18us/step - loss: 0.6702 - acc: 0.7906 - val_loss: 1.5606 - val_acc: 0.4894\n",
      "Epoch 41/50\n",
      "50000/50000 [==============================] - 1s 19us/step - loss: 0.6549 - acc: 0.7956 - val_loss: 1.5918 - val_acc: 0.4815\n",
      "Epoch 42/50\n",
      "50000/50000 [==============================] - 1s 18us/step - loss: 0.6378 - acc: 0.8019 - val_loss: 1.5821 - val_acc: 0.4923\n",
      "Epoch 43/50\n",
      "50000/50000 [==============================] - 1s 18us/step - loss: 0.6193 - acc: 0.8085 - val_loss: 1.5917 - val_acc: 0.4910\n",
      "Epoch 44/50\n",
      "50000/50000 [==============================] - 1s 20us/step - loss: 0.6018 - acc: 0.8173 - val_loss: 1.5981 - val_acc: 0.4934\n",
      "Epoch 45/50\n",
      "50000/50000 [==============================] - 1s 19us/step - loss: 0.5842 - acc: 0.8235 - val_loss: 1.6485 - val_acc: 0.4797\n",
      "Epoch 46/50\n",
      "50000/50000 [==============================] - 1s 19us/step - loss: 0.5654 - acc: 0.8313 - val_loss: 1.6314 - val_acc: 0.4868\n",
      "Epoch 47/50\n",
      "50000/50000 [==============================] - 1s 18us/step - loss: 0.5486 - acc: 0.8382 - val_loss: 1.6392 - val_acc: 0.4823\n",
      "Epoch 48/50\n",
      "50000/50000 [==============================] - 1s 18us/step - loss: 0.5310 - acc: 0.8457 - val_loss: 1.7000 - val_acc: 0.4831\n",
      "Epoch 49/50\n",
      "50000/50000 [==============================] - 1s 18us/step - loss: 0.5158 - acc: 0.8513 - val_loss: 1.6659 - val_acc: 0.4874\n",
      "Epoch 50/50\n",
      "50000/50000 [==============================] - 1s 18us/step - loss: 0.4980 - acc: 0.8576 - val_loss: 1.6544 - val_acc: 0.4917\n"
     ]
    }
   ],
   "source": [
    "earlystop = EarlyStopping(monitor=\"val_acc\", \n",
    "                          patience=25, \n",
    "                          verbose=1)\n",
    "\n",
    "model = build_mlp(input_shape=x_train.shape[1:])\n",
    "model.summary()\n",
    "optimizer = keras.optimizers.SGD(lr=LEARNING_RATE, nesterov=True, momentum=MOMENTUM)\n",
    "model.compile(loss=\"categorical_crossentropy\", metrics=[\"accuracy\"], optimizer=optimizer)\n",
    "\n",
    "model.fit(x_train, y_train, \n",
    "          epochs=EPOCHS, \n",
    "          batch_size=BATCH_SIZE, \n",
    "          validation_data=(x_test, y_test), \n",
    "          shuffle=True,\n",
    "          callbacks=[earlystop]\n",
    "         )\n",
    "\n",
    "# Collect results\n",
    "train_loss = model.history.history[\"loss\"]\n",
    "valid_loss = model.history.history[\"val_loss\"]\n",
    "train_acc = model.history.history[\"acc\"]\n",
    "valid_acc = model.history.history[\"val_acc\"]"
   ]
  },
  {
   "cell_type": "code",
   "execution_count": 13,
   "metadata": {},
   "outputs": [
    {
     "data": {
      "image/png": "[encoded data removed]",
      "text/plain": [
       "<Figure size 432x288 with 1 Axes>"
      ]
     },
     "metadata": {
      "needs_background": "light"
     },
     "output_type": "display_data"
    },
    {
     "data": {
      "image/png": "[encoded data removed]",
      "text/plain": [
       "<Figure size 432x288 with 1 Axes>"
      ]
     },
     "metadata": {
      "needs_background": "light"
     },
     "output_type": "display_data"
    }
   ],
   "source": [
    "plt.plot(range(len(train_loss)), train_loss, label=\"train loss\")\n",
    "plt.plot(range(len(valid_loss)), valid_loss, label=\"valid loss\")\n",
    "plt.legend()\n",
    "plt.title(\"Loss\")\n",
    "plt.show()\n",
    "\n",
    "plt.plot(range(len(train_acc)), train_acc, label=\"train accuracy\")\n",
    "plt.plot(range(len(valid_acc)), valid_acc, label=\"valid accuracy\")\n",
    "plt.legend()\n",
    "plt.title(\"Accuracy\")\n",
    "plt.show()"
   ]
  },
  {
   "cell_type": "code",
   "execution_count": null,
   "metadata": {},
   "outputs": [],
   "source": []
  }
 ],
 "metadata": {
  "kernelspec": {
   "display_name": "Python 3",
   "language": "python",
   "name": "python3"
  },
  "language_info": {
   "codemirror_mode": {
    "name": "ipython",
    "version": 3
   },
   "file_extension": ".py",
   "mimetype": "text/x-python",
   "name": "python",
   "nbconvert_exporter": "python",
   "pygments_lexer": "ipython3",
   "version": "3.6.6"
  }
 },
 "nbformat": 4,
 "nbformat_minor": 2
}
