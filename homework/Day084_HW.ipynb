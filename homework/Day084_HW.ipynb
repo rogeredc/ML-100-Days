{
 "cells": [
  {
   "cell_type": "markdown",
   "metadata": {},
   "source": [
    "## Work\n",
    "請結合前面的知識與程式碼，比較不同的 regularization 的組合對訓練的結果與影響：如 dropout, regularizers, batch-normalization 等"
   ]
  },
  {
   "cell_type": "code",
   "execution_count": 1,
   "metadata": {
    "collapsed": true
   },
   "outputs": [
    {
     "name": "stderr",
     "output_type": "stream",
     "text": [
      "/opt/conda/lib/python3.6/site-packages/h5py/__init__.py:36: FutureWarning: Conversion of the second argument of issubdtype from `float` to `np.floating` is deprecated. In future, it will be treated as `np.float64 == np.dtype(float).type`.\n",
      "  from ._conv import register_converters as _register_converters\n",
      "Using TensorFlow backend.\n"
     ]
    }
   ],
   "source": [
    "import os\n",
    "import keras\n",
    "import itertools\n",
    "# Disable GPU\n",
    "os.environ[\"CUDA_VISIBLE_DEVICES\"] = \"\""
   ]
  },
  {
   "cell_type": "code",
   "execution_count": 2,
   "metadata": {
    "collapsed": true
   },
   "outputs": [],
   "source": [
    "train, test = keras.datasets.cifar10.load_data()"
   ]
  },
  {
   "cell_type": "code",
   "execution_count": 3,
   "metadata": {
    "collapsed": true
   },
   "outputs": [],
   "source": [
    "## 資料前處理\n",
    "def preproc_x(x, flatten=True):\n",
    "    x = x / 255.\n",
    "    if flatten:\n",
    "        x = x.reshape((len(x), -1))\n",
    "    return x\n",
    "\n",
    "def preproc_y(y, num_classes=10):\n",
    "    if y.shape[-1] == 1:\n",
    "        y = keras.utils.to_categorical(y, num_classes)\n",
    "    return y    "
   ]
  },
  {
   "cell_type": "code",
   "execution_count": 4,
   "metadata": {
    "collapsed": true
   },
   "outputs": [],
   "source": [
    "x_train, y_train = train\n",
    "x_test, y_test = test\n",
    "\n",
    "# Preproc the inputs\n",
    "x_train = preproc_x(x_train)\n",
    "x_test = preproc_x(x_test)\n",
    "\n",
    "# Preprc the outputs\n",
    "y_train = preproc_y(y_train)\n",
    "y_test = preproc_y(y_test)"
   ]
  },
  {
   "cell_type": "code",
   "execution_count": 5,
   "metadata": {
    "collapsed": true
   },
   "outputs": [],
   "source": [
    "# Hint 1 : 在 Dense 層中增加 Regularizers\n",
    "# Hint 2 : 增加 Dropout 層並設定 dropout ratio \n",
    "# Hint 3 : 增加 Batch-normalization 層\n",
    "from keras.regularizers import l1_l2\n",
    "\n",
    "def build_mlp(input_shape, output_units=10, num_neurons=[512, 256, 128], l1_alpha=0.01, l2_alpha=0.01, drp_ratio=0.2):\n",
    "    input_layer = keras.layers.Input(input_shape)\n",
    "    x = keras.layers.BatchNormalization()(input_layer)\n",
    "    \n",
    "    for i, n_units in enumerate(num_neurons):\n",
    "        if i == 0:\n",
    "            x = keras.layers.Dense(units=n_units, \n",
    "                                   activation=\"relu\",\n",
    "                                   kernel_regularizer=l1_l2(l1=l1_alpha, l2=l2_alpha))(x)\n",
    "        else:\n",
    "            x = keras.layers.Dense(units=n_units, \n",
    "                                   activation=\"relu\",\n",
    "                                   kernel_regularizer=l1_l2(l1=l1_alpha, l2=l2_alpha))(x)\n",
    "        x = keras.layers.Dropout(drp_ratio)(x)\n",
    "        x = keras.layers.BatchNormalization()(x)\n",
    "    \n",
    "    out = keras.layers.Dense(units=output_units, activation=\"softmax\", name=\"output\")(x)\n",
    "    \n",
    "    model = keras.models.Model(inputs=[input_layer], outputs=[out])\n",
    "    return model"
   ]
  },
  {
   "cell_type": "code",
   "execution_count": 6,
   "metadata": {
    "collapsed": true
   },
   "outputs": [],
   "source": [
    "## 超參數設定\n",
    "LEARNING_RATE = 1e-3\n",
    "EPOCHS = 50\n",
    "BATCH_SIZE = [512]\n",
    "MOMENTUM = 0.95"
   ]
  },
  {
   "cell_type": "code",
   "execution_count": 7,
   "metadata": {
    "collapsed": true,
    "scrolled": true
   },
   "outputs": [
    {
     "name": "stdout",
     "output_type": "stream",
     "text": [
      "_________________________________________________________________\n",
      "Layer (type)                 Output Shape              Param #   \n",
      "=================================================================\n",
      "input_1 (InputLayer)         (None, 3072)              0         \n",
      "_________________________________________________________________\n",
      "batch_normalization_1 (Batch (None, 3072)              12288     \n",
      "_________________________________________________________________\n",
      "dense_1 (Dense)              (None, 512)               1573376   \n",
      "_________________________________________________________________\n",
      "dropout_1 (Dropout)          (None, 512)               0         \n",
      "_________________________________________________________________\n",
      "batch_normalization_2 (Batch (None, 512)               2048      \n",
      "_________________________________________________________________\n",
      "dense_2 (Dense)              (None, 256)               131328    \n",
      "_________________________________________________________________\n",
      "dropout_2 (Dropout)          (None, 256)               0         \n",
      "_________________________________________________________________\n",
      "batch_normalization_3 (Batch (None, 256)               1024      \n",
      "_________________________________________________________________\n",
      "dense_3 (Dense)              (None, 128)               32896     \n",
      "_________________________________________________________________\n",
      "dropout_3 (Dropout)          (None, 128)               0         \n",
      "_________________________________________________________________\n",
      "batch_normalization_4 (Batch (None, 128)               512       \n",
      "_________________________________________________________________\n",
      "output (Dense)               (None, 10)                1290      \n",
      "=================================================================\n",
      "Total params: 1,754,762\n",
      "Trainable params: 1,746,826\n",
      "Non-trainable params: 7,936\n",
      "_________________________________________________________________\n",
      "Train on 50000 samples, validate on 10000 samples\n",
      "Epoch 1/50\n",
      "50000/50000 [==============================] - 18s 355us/step - loss: 18.7493 - acc: 0.3184 - val_loss: 7.7705 - val_acc: 0.3055\n",
      "Epoch 2/50\n",
      "50000/50000 [==============================] - 17s 334us/step - loss: 6.0738 - acc: 0.3397 - val_loss: 5.0468 - val_acc: 0.2985\n",
      "Epoch 3/50\n",
      "50000/50000 [==============================] - 17s 333us/step - loss: 4.2448 - acc: 0.3589 - val_loss: 4.0390 - val_acc: 0.3404\n",
      "Epoch 4/50\n",
      "50000/50000 [==============================] - 17s 332us/step - loss: 3.6029 - acc: 0.3734 - val_loss: 3.5432 - val_acc: 0.3610\n",
      "Epoch 5/50\n",
      "50000/50000 [==============================] - 17s 332us/step - loss: 3.3782 - acc: 0.3844 - val_loss: 3.3987 - val_acc: 0.3923\n",
      "Epoch 6/50\n",
      "50000/50000 [==============================] - 17s 332us/step - loss: 3.2634 - acc: 0.3835 - val_loss: 3.2142 - val_acc: 0.4069\n",
      "Epoch 7/50\n",
      "50000/50000 [==============================] - 16s 329us/step - loss: 3.1848 - acc: 0.3912 - val_loss: 3.1414 - val_acc: 0.4087\n",
      "Epoch 8/50\n",
      "50000/50000 [==============================] - 17s 331us/step - loss: 3.1436 - acc: 0.3986 - val_loss: 3.0711 - val_acc: 0.4287\n",
      "Epoch 9/50\n",
      "50000/50000 [==============================] - 17s 330us/step - loss: 3.1113 - acc: 0.4024 - val_loss: 3.1042 - val_acc: 0.3936\n",
      "Epoch 10/50\n",
      "50000/50000 [==============================] - 16s 329us/step - loss: 3.0811 - acc: 0.4055 - val_loss: 3.0140 - val_acc: 0.4297\n",
      "Epoch 11/50\n",
      "50000/50000 [==============================] - 17s 331us/step - loss: 3.0526 - acc: 0.4036 - val_loss: 2.9304 - val_acc: 0.4496\n",
      "Epoch 12/50\n",
      "50000/50000 [==============================] - 17s 334us/step - loss: 3.0222 - acc: 0.4050 - val_loss: 2.9452 - val_acc: 0.4375\n",
      "Epoch 13/50\n",
      "50000/50000 [==============================] - 16s 330us/step - loss: 3.0038 - acc: 0.4041 - val_loss: 2.9329 - val_acc: 0.4348\n",
      "Epoch 14/50\n",
      "50000/50000 [==============================] - 17s 330us/step - loss: 2.9690 - acc: 0.4092 - val_loss: 2.9358 - val_acc: 0.4310\n",
      "Epoch 15/50\n",
      "50000/50000 [==============================] - 16s 328us/step - loss: 2.9611 - acc: 0.4128 - val_loss: 2.8713 - val_acc: 0.4363\n",
      "Epoch 16/50\n",
      "50000/50000 [==============================] - 16s 328us/step - loss: 2.9527 - acc: 0.4101 - val_loss: 2.9146 - val_acc: 0.4286\n",
      "Epoch 17/50\n",
      "50000/50000 [==============================] - 16s 328us/step - loss: 2.9336 - acc: 0.4168 - val_loss: 2.8184 - val_acc: 0.4523\n",
      "Epoch 18/50\n",
      "50000/50000 [==============================] - 16s 328us/step - loss: 2.8992 - acc: 0.4147 - val_loss: 2.8105 - val_acc: 0.4476\n",
      "Epoch 19/50\n",
      "50000/50000 [==============================] - 16s 328us/step - loss: 2.8926 - acc: 0.4167 - val_loss: 2.8284 - val_acc: 0.4417\n",
      "Epoch 20/50\n",
      "50000/50000 [==============================] - 16s 327us/step - loss: 2.8703 - acc: 0.4188 - val_loss: 2.7913 - val_acc: 0.4400\n",
      "Epoch 21/50\n",
      "50000/50000 [==============================] - 16s 328us/step - loss: 2.8257 - acc: 0.4203 - val_loss: 2.7493 - val_acc: 0.4479\n",
      "Epoch 22/50\n",
      "50000/50000 [==============================] - 17s 330us/step - loss: 2.8126 - acc: 0.4203 - val_loss: 2.7346 - val_acc: 0.4451\n",
      "Epoch 23/50\n",
      "50000/50000 [==============================] - 16s 327us/step - loss: 2.7680 - acc: 0.4253 - val_loss: 2.7314 - val_acc: 0.4382\n",
      "Epoch 24/50\n",
      "50000/50000 [==============================] - 16s 325us/step - loss: 2.7421 - acc: 0.4282 - val_loss: 2.6875 - val_acc: 0.4576\n",
      "Epoch 25/50\n",
      "50000/50000 [==============================] - 18s 351us/step - loss: 2.7221 - acc: 0.4275 - val_loss: 2.6309 - val_acc: 0.4492\n",
      "Epoch 26/50\n",
      "50000/50000 [==============================] - 23s 461us/step - loss: 2.6767 - acc: 0.4290 - val_loss: 2.6102 - val_acc: 0.4499\n",
      "Epoch 27/50\n",
      "50000/50000 [==============================] - 23s 468us/step - loss: 2.6491 - acc: 0.4300 - val_loss: 2.5658 - val_acc: 0.4490\n",
      "Epoch 28/50\n",
      "50000/50000 [==============================] - 23s 467us/step - loss: 2.5999 - acc: 0.4310 - val_loss: 2.4882 - val_acc: 0.4597\n",
      "Epoch 29/50\n",
      "50000/50000 [==============================] - 18s 370us/step - loss: 2.5582 - acc: 0.4328 - val_loss: 2.5183 - val_acc: 0.4541\n",
      "Epoch 30/50\n",
      "50000/50000 [==============================] - 16s 327us/step - loss: 2.5472 - acc: 0.4350 - val_loss: 2.4315 - val_acc: 0.4674\n",
      "Epoch 31/50\n",
      "50000/50000 [==============================] - 17s 330us/step - loss: 2.4938 - acc: 0.4353 - val_loss: 2.4232 - val_acc: 0.4558\n",
      "Epoch 32/50\n",
      "50000/50000 [==============================] - 17s 332us/step - loss: 2.4686 - acc: 0.4363 - val_loss: 2.3771 - val_acc: 0.4601\n",
      "Epoch 33/50\n",
      "50000/50000 [==============================] - 17s 330us/step - loss: 2.4291 - acc: 0.4376 - val_loss: 2.3655 - val_acc: 0.4590\n",
      "Epoch 34/50\n",
      "50000/50000 [==============================] - 16s 328us/step - loss: 2.3964 - acc: 0.4369 - val_loss: 2.2927 - val_acc: 0.4764\n",
      "Epoch 35/50\n",
      "50000/50000 [==============================] - 16s 329us/step - loss: 2.3748 - acc: 0.4417 - val_loss: 2.3175 - val_acc: 0.4636\n",
      "Epoch 36/50\n",
      "50000/50000 [==============================] - 17s 339us/step - loss: 2.3417 - acc: 0.4376 - val_loss: 2.2751 - val_acc: 0.4641\n",
      "Epoch 37/50\n",
      "50000/50000 [==============================] - 17s 338us/step - loss: 2.3243 - acc: 0.4403 - val_loss: 2.2401 - val_acc: 0.4750\n",
      "Epoch 38/50\n",
      "50000/50000 [==============================] - 17s 331us/step - loss: 2.3045 - acc: 0.4417 - val_loss: 2.2576 - val_acc: 0.4556\n",
      "Epoch 39/50\n",
      "50000/50000 [==============================] - 22s 444us/step - loss: 2.2782 - acc: 0.4409 - val_loss: 2.2345 - val_acc: 0.4573\n",
      "Epoch 40/50\n",
      "50000/50000 [==============================] - 23s 470us/step - loss: 2.2384 - acc: 0.4459 - val_loss: 2.1646 - val_acc: 0.4736\n",
      "Epoch 41/50\n",
      "50000/50000 [==============================] - 23s 467us/step - loss: 2.2356 - acc: 0.4408 - val_loss: 2.1393 - val_acc: 0.4778\n",
      "Epoch 42/50\n",
      "50000/50000 [==============================] - 21s 410us/step - loss: 2.2094 - acc: 0.4422 - val_loss: 2.1273 - val_acc: 0.4794\n",
      "Epoch 43/50\n",
      "50000/50000 [==============================] - 16s 329us/step - loss: 2.1900 - acc: 0.4483 - val_loss: 2.1332 - val_acc: 0.4612\n",
      "Epoch 44/50\n",
      "50000/50000 [==============================] - 16s 328us/step - loss: 2.1671 - acc: 0.4454 - val_loss: 2.1098 - val_acc: 0.4716\n",
      "Epoch 45/50\n",
      "50000/50000 [==============================] - 16s 328us/step - loss: 2.1610 - acc: 0.4486 - val_loss: 2.0836 - val_acc: 0.4753\n",
      "Epoch 46/50\n",
      "50000/50000 [==============================] - 16s 326us/step - loss: 2.1470 - acc: 0.4484 - val_loss: 2.0694 - val_acc: 0.4730\n",
      "Epoch 47/50\n",
      "50000/50000 [==============================] - 16s 327us/step - loss: 2.1462 - acc: 0.4495 - val_loss: 2.0706 - val_acc: 0.4724\n",
      "Epoch 48/50\n",
      "50000/50000 [==============================] - 16s 329us/step - loss: 2.1301 - acc: 0.4492 - val_loss: 2.0555 - val_acc: 0.4802\n",
      "Epoch 49/50\n",
      "50000/50000 [==============================] - 16s 329us/step - loss: 2.1238 - acc: 0.4500 - val_loss: 2.0457 - val_acc: 0.4767\n",
      "Epoch 50/50\n",
      "50000/50000 [==============================] - 16s 330us/step - loss: 2.1162 - acc: 0.4512 - val_loss: 2.0617 - val_acc: 0.4726\n"
     ]
    }
   ],
   "source": [
    "results = {}\n",
    "\"\"\"\n",
    "Write your training loop and record results\n",
    "\"\"\"\n",
    "for batch_size in BATCH_SIZE:\n",
    "    model = build_mlp(input_shape=x_train.shape[1:], output_units=10,\n",
    "                      num_neurons=[512, 256, 128],\n",
    "                      l1_alpha=0.001, l2_alpha=0.001, drp_ratio=0.2)\n",
    "    model.summary()\n",
    "    model.compile(optimizer='adam',\n",
    "                  loss=\"categorical_crossentropy\",\n",
    "                  metrics=[\"accuracy\"])\n",
    "\n",
    "    model.fit(x_train, y_train, \n",
    "              epochs=EPOCHS, \n",
    "              batch_size=batch_size, \n",
    "              validation_data=(x_test, y_test), \n",
    "              shuffle=True)\n",
    "    \n",
    "    # Collect results\n",
    "    train_loss = model.history.history[\"loss\"]\n",
    "    valid_loss = model.history.history[\"val_loss\"]\n",
    "    train_acc = model.history.history[\"acc\"]\n",
    "    valid_acc = model.history.history[\"val_acc\"]\n",
    "    \n",
    "    exp_name_tag = f\"batch_size_{batch_size}\"\n",
    "    results[exp_name_tag] = {'train-loss': train_loss,\n",
    "                             'valid-loss': valid_loss,\n",
    "                             'train-acc': train_acc,\n",
    "                             'valid-acc': valid_acc}"
   ]
  },
  {
   "cell_type": "code",
   "execution_count": 8,
   "metadata": {
    "collapsed": true
   },
   "outputs": [
    {
     "data": {
      "image/png": "[encoded data removed]",
      "text/plain": [
       "<Figure size 576x432 with 1 Axes>"
      ]
     },
     "metadata": {
      "needs_background": "light"
     },
     "output_type": "display_data"
    },
    {
     "data": {
      "image/png": "[encoded data removed]",
      "text/plain": [
       "<Figure size 576x432 with 1 Axes>"
      ]
     },
     "metadata": {
      "needs_background": "light"
     },
     "output_type": "display_data"
    }
   ],
   "source": [
    "import matplotlib.pyplot as plt\n",
    "%matplotlib inline\n",
    "\n",
    "color_bar = [\"r\", \"g\", \"b\", \"y\", \"m\", \"k\"]\n",
    "\n",
    "plt.figure(figsize=(8,6))\n",
    "for i, cond in enumerate(results.keys()):\n",
    "    plt.plot(range(len(results[cond]['train-loss'])),results[cond]['train-loss'], '-', label=f\"train: {cond}\", color=color_bar[i])\n",
    "    plt.plot(range(len(results[cond]['valid-loss'])),results[cond]['valid-loss'], '--', label=f\"valid: {cond}\", color=color_bar[i])\n",
    "plt.title(\"Loss\")\n",
    "plt.ylim([0, 5])\n",
    "plt.legend()\n",
    "plt.show()\n",
    "\n",
    "plt.figure(figsize=(8,6))\n",
    "for i, cond in enumerate(results.keys()):\n",
    "    plt.plot(range(len(results[cond]['train-acc'])),results[cond]['train-acc'], '-', label=f\"train: {cond}\", color=color_bar[i])\n",
    "    plt.plot(range(len(results[cond]['valid-acc'])),results[cond]['valid-acc'], '--', label=f\"valid: {cond}\", color=color_bar[i])\n",
    "plt.title(\"Accuracy\")\n",
    "plt.legend()\n",
    "plt.show()"
   ]
  },
  {
   "cell_type": "code",
   "execution_count": null,
   "metadata": {},
   "outputs": [],
   "source": []
  }
 ],
 "metadata": {
  "kernelspec": {
   "display_name": "Python 3",
   "language": "python",
   "name": "python3"
  },
  "language_info": {
   "codemirror_mode": {
    "name": "ipython",
    "version": 3
   },
   "file_extension": ".py",
   "mimetype": "text/x-python",
   "name": "python",
   "nbconvert_exporter": "python",
   "pygments_lexer": "ipython3",
   "version": "3.6.6"
  }
 },
 "nbformat": 4,
 "nbformat_minor": 2
}
