{
 "cells": [
  {
   "cell_type": "markdown",
   "metadata": {},
   "source": [
    "## Work\n",
    "請結合前面的知識與程式碼，比較不同的 regularization 的組合對訓練的結果與影響：如 dropout, regularizers, batch-normalization 等"
   ]
  },
  {
   "cell_type": "code",
   "execution_count": 1,
   "metadata": {
    "collapsed": true
   },
   "outputs": [
    {
     "name": "stderr",
     "output_type": "stream",
     "text": [
      "/opt/conda/lib/python3.6/site-packages/h5py/__init__.py:36: FutureWarning: Conversion of the second argument of issubdtype from `float` to `np.floating` is deprecated. In future, it will be treated as `np.float64 == np.dtype(float).type`.\n",
      "  from ._conv import register_converters as _register_converters\n",
      "Using TensorFlow backend.\n"
     ]
    }
   ],
   "source": [
    "import os\n",
    "import keras\n",
    "import itertools\n",
    "# Disable GPU\n",
    "os.environ[\"CUDA_VISIBLE_DEVICES\"] = \"\""
   ]
  },
  {
   "cell_type": "code",
   "execution_count": 2,
   "metadata": {
    "collapsed": true
   },
   "outputs": [],
   "source": [
    "train, test = keras.datasets.cifar10.load_data()"
   ]
  },
  {
   "cell_type": "code",
   "execution_count": 3,
   "metadata": {
    "collapsed": true
   },
   "outputs": [],
   "source": [
    "## 資料前處理\n",
    "def preproc_x(x, flatten=True):\n",
    "    x = x / 255.\n",
    "    if flatten:\n",
    "        x = x.reshape((len(x), -1))\n",
    "    return x\n",
    "\n",
    "def preproc_y(y, num_classes=10):\n",
    "    if y.shape[-1] == 1:\n",
    "        y = keras.utils.to_categorical(y, num_classes)\n",
    "    return y    "
   ]
  },
  {
   "cell_type": "code",
   "execution_count": 4,
   "metadata": {
    "collapsed": true
   },
   "outputs": [],
   "source": [
    "x_train, y_train = train\n",
    "x_test, y_test = test\n",
    "\n",
    "# Preproc the inputs\n",
    "x_train = preproc_x(x_train)\n",
    "x_test = preproc_x(x_test)\n",
    "\n",
    "# Preprc the outputs\n",
    "y_train = preproc_y(y_train)\n",
    "y_test = preproc_y(y_test)"
   ]
  },
  {
   "cell_type": "code",
   "execution_count": 5,
   "metadata": {
    "collapsed": true
   },
   "outputs": [],
   "source": [
    "# Hint 1 : 在 Dense 層中增加 Regularizers\n",
    "# Hint 2 : 增加 Dropout 層並設定 dropout ratio \n",
    "# Hint 3 : 增加 Batch-normalization 層\n",
    "from keras.regularizers import l1_l2\n",
    "\n",
    "def build_mlp(input_shape, output_units=10, num_neurons=[512, 256, 128], l1_alpha=0.01, l2_alpha=0.01, drp_ratio=0.2):\n",
    "    input_layer = keras.layers.Input(input_shape)\n",
    "    x = keras.layers.BatchNormalization()(input_layer)\n",
    "    \n",
    "    for i, n_units in enumerate(num_neurons):\n",
    "        if i == 0:\n",
    "            x = keras.layers.Dense(units=n_units, \n",
    "                                   activation=\"relu\",\n",
    "                                   kernel_regularizer=l1_l2(l1=l1_alpha, l2=l2_alpha))(x)\n",
    "        else:\n",
    "            x = keras.layers.Dense(units=n_units, \n",
    "                                   activation=\"relu\",\n",
    "                                   kernel_regularizer=l1_l2(l1=l1_alpha, l2=l2_alpha))(x)\n",
    "        x = keras.layers.Dropout(drp_ratio)(x)\n",
    "        x = keras.layers.BatchNormalization()(x)\n",
    "    \n",
    "    out = keras.layers.Dense(units=output_units, activation=\"softmax\", name=\"output\")(x)\n",
    "    \n",
    "    model = keras.models.Model(inputs=[input_layer], outputs=[out])\n",
    "    return model"
   ]
  },
  {
   "cell_type": "code",
   "execution_count": 9,
   "metadata": {
    "collapsed": true
   },
   "outputs": [],
   "source": [
    "## 超參數設定\n",
    "LEARNING_RATE = 1e-3\n",
    "EPOCHS = 50\n",
    "BATCH_SIZE = [512]\n",
    "MOMENTUM = 0.95"
   ]
  },
  {
   "cell_type": "code",
   "execution_count": null,
   "metadata": {
    "collapsed": true,
    "scrolled": true
   },
   "outputs": [
    {
     "name": "stdout",
     "output_type": "stream",
     "text": [
      "_________________________________________________________________\n",
      "Layer (type)                 Output Shape              Param #   \n",
      "=================================================================\n",
      "input_1 (InputLayer)         (None, 3072)              0         \n",
      "_________________________________________________________________\n",
      "batch_normalization_1 (Batch (None, 3072)              12288     \n",
      "_________________________________________________________________\n",
      "dense_1 (Dense)              (None, 512)               1573376   \n",
      "_________________________________________________________________\n",
      "dropout_1 (Dropout)          (None, 512)               0         \n",
      "_________________________________________________________________\n",
      "batch_normalization_2 (Batch (None, 512)               2048      \n",
      "_________________________________________________________________\n",
      "dense_2 (Dense)              (None, 256)               131328    \n",
      "_________________________________________________________________\n",
      "dropout_2 (Dropout)          (None, 256)               0         \n",
      "_________________________________________________________________\n",
      "batch_normalization_3 (Batch (None, 256)               1024      \n",
      "_________________________________________________________________\n",
      "dense_3 (Dense)              (None, 128)               32896     \n",
      "_________________________________________________________________\n",
      "dropout_3 (Dropout)          (None, 128)               0         \n",
      "_________________________________________________________________\n",
      "batch_normalization_4 (Batch (None, 128)               512       \n",
      "_________________________________________________________________\n",
      "output (Dense)               (None, 10)                1290      \n",
      "=================================================================\n",
      "Total params: 1,754,762\n",
      "Trainable params: 1,746,826\n",
      "Non-trainable params: 7,936\n",
      "_________________________________________________________________\n",
      "Train on 50000 samples, validate on 10000 samples\n",
      "Epoch 1/50\n",
      "50000/50000 [==============================] - 32s 640us/step - loss: 19.1451 - acc: 0.3120 - val_loss: 8.0514 - val_acc: 0.2954\n",
      "Epoch 2/50\n",
      "50000/50000 [==============================] - 30s 603us/step - loss: 6.2971 - acc: 0.3409 - val_loss: 5.2306 - val_acc: 0.2739\n",
      "Epoch 3/50\n",
      "50000/50000 [==============================] - 30s 599us/step - loss: 4.3728 - acc: 0.3579 - val_loss: 4.0825 - val_acc: 0.3230\n",
      "Epoch 4/50\n",
      "50000/50000 [==============================] - 29s 588us/step - loss: 3.6811 - acc: 0.3695 - val_loss: 3.6373 - val_acc: 0.3491\n",
      "Epoch 5/50\n",
      "50000/50000 [==============================] - 29s 587us/step - loss: 3.3903 - acc: 0.3750 - val_loss: 3.3506 - val_acc: 0.3876\n",
      "Epoch 6/50\n",
      "50000/50000 [==============================] - 30s 592us/step - loss: 3.2312 - acc: 0.3868 - val_loss: 3.2487 - val_acc: 0.3894\n",
      "Epoch 7/50\n",
      "50000/50000 [==============================] - 29s 589us/step - loss: 3.1789 - acc: 0.3866 - val_loss: 3.1409 - val_acc: 0.4119\n",
      "Epoch 8/50\n",
      "50000/50000 [==============================] - 30s 592us/step - loss: 3.1259 - acc: 0.3913 - val_loss: 3.0810 - val_acc: 0.4218\n",
      "Epoch 9/50\n",
      "50000/50000 [==============================] - 29s 585us/step - loss: 3.1051 - acc: 0.4021 - val_loss: 3.0601 - val_acc: 0.4173\n",
      "Epoch 10/50\n",
      "50000/50000 [==============================] - 29s 587us/step - loss: 3.0893 - acc: 0.3986 - val_loss: 3.0318 - val_acc: 0.4166\n",
      "Epoch 11/50\n",
      "50000/50000 [==============================] - 30s 603us/step - loss: 3.0724 - acc: 0.4026 - val_loss: 3.0063 - val_acc: 0.4248\n",
      "Epoch 12/50\n",
      "50000/50000 [==============================] - 30s 595us/step - loss: 3.0240 - acc: 0.4070 - val_loss: 2.9804 - val_acc: 0.4337\n",
      "Epoch 13/50\n",
      "50000/50000 [==============================] - 30s 597us/step - loss: 3.0187 - acc: 0.4084 - val_loss: 2.9706 - val_acc: 0.4278\n",
      "Epoch 14/50\n",
      "50000/50000 [==============================] - 29s 579us/step - loss: 2.9533 - acc: 0.4097 - val_loss: 2.8637 - val_acc: 0.4342\n",
      "Epoch 17/50\n",
      "50000/50000 [==============================] - 29s 581us/step - loss: 2.9200 - acc: 0.4119 - val_loss: 2.8318 - val_acc: 0.4367\n",
      "Epoch 18/50\n",
      "50000/50000 [==============================] - 29s 584us/step - loss: 2.9157 - acc: 0.4123 - val_loss: 2.8833 - val_acc: 0.4345\n",
      "Epoch 19/50\n",
      "50000/50000 [==============================] - 29s 590us/step - loss: 2.9023 - acc: 0.4149 - val_loss: 2.8394 - val_acc: 0.4343\n",
      "Epoch 20/50\n",
      "50000/50000 [==============================] - 29s 576us/step - loss: 2.8902 - acc: 0.4153 - val_loss: 2.8217 - val_acc: 0.4375\n",
      "Epoch 21/50\n",
      "50000/50000 [==============================] - 29s 580us/step - loss: 2.8548 - acc: 0.4189 - val_loss: 2.8310 - val_acc: 0.4324\n",
      "Epoch 22/50\n",
      "50000/50000 [==============================] - 29s 580us/step - loss: 2.8521 - acc: 0.4161 - val_loss: 2.7486 - val_acc: 0.4367\n",
      "Epoch 23/50\n",
      "50000/50000 [==============================] - 29s 572us/step - loss: 2.8121 - acc: 0.4171 - val_loss: 2.7479 - val_acc: 0.4474\n",
      "Epoch 24/50\n",
      "50000/50000 [==============================] - 29s 589us/step - loss: 2.7917 - acc: 0.4218 - val_loss: 2.7164 - val_acc: 0.4429\n",
      "Epoch 25/50\n",
      "50000/50000 [==============================] - 29s 580us/step - loss: 2.7479 - acc: 0.4236 - val_loss: 2.7243 - val_acc: 0.4287\n",
      "Epoch 26/50\n",
      "50000/50000 [==============================] - 29s 586us/step - loss: 2.7314 - acc: 0.4253 - val_loss: 2.6494 - val_acc: 0.4424\n",
      "Epoch 27/50\n",
      "50000/50000 [==============================] - 29s 583us/step - loss: 2.6812 - acc: 0.4260 - val_loss: 2.6028 - val_acc: 0.4515\n",
      "Epoch 28/50\n",
      "50000/50000 [==============================] - 30s 600us/step - loss: 2.6505 - acc: 0.4246 - val_loss: 2.5809 - val_acc: 0.4604\n",
      "Epoch 29/50\n",
      "50000/50000 [==============================] - 29s 578us/step - loss: 2.5500 - acc: 0.4320 - val_loss: 2.4654 - val_acc: 0.4542\n",
      "Epoch 32/50\n",
      "50000/50000 [==============================] - 29s 589us/step - loss: 2.5106 - acc: 0.4298 - val_loss: 2.4389 - val_acc: 0.4537\n",
      "Epoch 33/50\n",
      "50000/50000 [==============================] - 30s 594us/step - loss: 2.4598 - acc: 0.4364 - val_loss: 2.3814 - val_acc: 0.4606\n",
      "Epoch 34/50\n",
      "50000/50000 [==============================] - 30s 593us/step - loss: 2.4369 - acc: 0.4364 - val_loss: 2.3599 - val_acc: 0.4584\n",
      "Epoch 35/50\n",
      "50000/50000 [==============================] - 30s 590us/step - loss: 2.4144 - acc: 0.4364 - val_loss: 2.3285 - val_acc: 0.4620\n",
      "Epoch 36/50\n",
      "50000/50000 [==============================] - 30s 590us/step - loss: 2.3777 - acc: 0.4340 - val_loss: 2.2839 - val_acc: 0.4569\n",
      "Epoch 37/50\n",
      "50000/50000 [==============================] - 30s 593us/step - loss: 2.3477 - acc: 0.4396 - val_loss: 2.2814 - val_acc: 0.4625\n",
      "Epoch 38/50\n",
      "50000/50000 [==============================] - 30s 591us/step - loss: 2.3172 - acc: 0.4421 - val_loss: 2.2671 - val_acc: 0.4582\n",
      "Epoch 39/50\n",
      "50000/50000 [==============================] - 30s 594us/step - loss: 2.2992 - acc: 0.4384 - val_loss: 2.1914 - val_acc: 0.4633\n",
      "Epoch 40/50\n",
      "50000/50000 [==============================] - 30s 595us/step - loss: 2.2702 - acc: 0.4408 - val_loss: 2.1891 - val_acc: 0.4674\n",
      "Epoch 41/50\n",
      "50000/50000 [==============================] - 29s 588us/step - loss: 2.2463 - acc: 0.4399 - val_loss: 2.1492 - val_acc: 0.4726\n",
      "Epoch 42/50\n",
      "50000/50000 [==============================] - 30s 597us/step - loss: 2.2262 - acc: 0.4427 - val_loss: 2.1554 - val_acc: 0.4648\n",
      "Epoch 43/50\n",
      "50000/50000 [==============================] - 30s 601us/step - loss: 2.2037 - acc: 0.4434 - val_loss: 2.1429 - val_acc: 0.4607\n",
      "Epoch 44/50\n",
      "50000/50000 [==============================] - 30s 596us/step - loss: 2.1934 - acc: 0.4434 - val_loss: 2.1015 - val_acc: 0.4801\n",
      "Epoch 45/50\n",
      "50000/50000 [==============================] - 30s 600us/step - loss: 2.1777 - acc: 0.4479 - val_loss: 2.0966 - val_acc: 0.4705\n",
      "Epoch 46/50\n",
      "50000/50000 [==============================] - 30s 593us/step - loss: 2.1526 - acc: 0.4511 - val_loss: 2.1053 - val_acc: 0.4661\n",
      "Epoch 47/50\n",
      "50000/50000 [==============================] - 29s 587us/step - loss: 2.1464 - acc: 0.4478 - val_loss: 2.0720 - val_acc: 0.4738\n",
      "Epoch 48/50\n",
      "50000/50000 [==============================] - 30s 603us/step - loss: 2.1302 - acc: 0.4509 - val_loss: 2.0793 - val_acc: 0.4721\n",
      "Epoch 49/50\n",
      "42496/50000 [========================>.....] - ETA: 4s - loss: 2.1318 - acc: 0.4479"
     ]
    }
   ],
   "source": [
    "results = {}\n",
    "\"\"\"\n",
    "Write your training loop and record results\n",
    "\"\"\"\n",
    "for batch_size in BATCH_SIZE:\n",
    "    model = build_mlp(input_shape=x_train.shape[1:], output_units=10,\n",
    "                      num_neurons=[512, 256, 128],\n",
    "                      l1_alpha=0.001, l2_alpha=0.001, drp_ratio=0.2)\n",
    "    model.summary()\n",
    "    model.compile(optimizer='adam',\n",
    "                  loss=\"categorical_crossentropy\",\n",
    "                  metrics=[\"accuracy\"])\n",
    "\n",
    "    model.fit(x_train, y_train, \n",
    "              epochs=EPOCHS, \n",
    "              batch_size=batch_size, \n",
    "              validation_data=(x_test, y_test), \n",
    "              shuffle=True)\n",
    "    \n",
    "    # Collect results\n",
    "    train_loss = model.history.history[\"loss\"]\n",
    "    valid_loss = model.history.history[\"val_loss\"]\n",
    "    train_acc = model.history.history[\"acc\"]\n",
    "    valid_acc = model.history.history[\"val_acc\"]\n",
    "    \n",
    "    exp_name_tag = f\"batch_size_{batch_size}\"\n",
    "    results[exp_name_tag] = {'train-loss': train_loss,\n",
    "                             'valid-loss': valid_loss,\n",
    "                             'train-acc': train_acc,\n",
    "                             'valid-acc': valid_acc}"
   ]
  },
  {
   "cell_type": "code",
   "execution_count": null,
   "metadata": {
    "collapsed": true
   },
   "outputs": [],
   "source": [
    "import matplotlib.pyplot as plt\n",
    "%matplotlib inline\n",
    "\n",
    "color_bar = [\"r\", \"g\", \"b\", \"y\", \"m\", \"k\"]\n",
    "\n",
    "plt.figure(figsize=(8,6))\n",
    "for i, cond in enumerate(results.keys()):\n",
    "    plt.plot(range(len(results[cond]['train-loss'])),results[cond]['train-loss'], '-', label=f\"train: {cond}\", color=color_bar[i])\n",
    "    plt.plot(range(len(results[cond]['valid-loss'])),results[cond]['valid-loss'], '--', label=f\"valid: {cond}\", color=color_bar[i])\n",
    "plt.title(\"Loss\")\n",
    "plt.ylim([0, 5])\n",
    "plt.legend()\n",
    "plt.show()\n",
    "\n",
    "plt.figure(figsize=(8,6))\n",
    "for i, cond in enumerate(results.keys()):\n",
    "    plt.plot(range(len(results[cond]['train-acc'])),results[cond]['train-acc'], '-', label=f\"train: {cond}\", color=color_bar[i])\n",
    "    plt.plot(range(len(results[cond]['valid-acc'])),results[cond]['valid-acc'], '--', label=f\"valid: {cond}\", color=color_bar[i])\n",
    "plt.title(\"Accuracy\")\n",
    "plt.legend()\n",
    "plt.show()"
   ]
  },
  {
   "cell_type": "code",
   "execution_count": null,
   "metadata": {},
   "outputs": [],
   "source": []
  }
 ],
 "metadata": {
  "kernelspec": {
   "display_name": "Python 3",
   "language": "python",
   "name": "python3"
  },
  "language_info": {
   "codemirror_mode": {
    "name": "ipython",
    "version": 3
   },
   "file_extension": ".py",
   "mimetype": "text/x-python",
   "name": "python",
   "nbconvert_exporter": "python",
   "pygments_lexer": "ipython3",
   "version": "3.6.6"
  }
 },
 "nbformat": 4,
 "nbformat_minor": 2
}
